{
  "nbformat": 4,
  "nbformat_minor": 0,
  "metadata": {
    "colab": {
      "provenance": [],
      "collapsed_sections": [
        "jRNyXlUYQ3dE",
        "UIaxvkvdRIKs",
        "hdFCGXDjSDiq"
      ],
      "toc_visible": true,
      "mount_file_id": "1ikm9YnOPb51qtbTr9gBh4wmh3pTUkRJl",
      "authorship_tag": "ABX9TyOTbzKTKDFsHn5+MSOCU8T8",
      "include_colab_link": true
    },
    "kernelspec": {
      "name": "python3",
      "display_name": "Python 3"
    },
    "language_info": {
      "name": "python"
    }
  },
  "cells": [
    {
      "cell_type": "markdown",
      "metadata": {
        "id": "view-in-github",
        "colab_type": "text"
      },
      "source": [
        "<a href=\"https://colab.research.google.com/github/code-liv/projeto_final/blob/main/livia_projeto_final_tel%C3%B3s.ipynb\" target=\"_parent\"><img src=\"https://colab.research.google.com/assets/colab-badge.svg\" alt=\"Open In Colab\"/></a>"
      ]
    },
    {
      "cell_type": "markdown",
      "source": [],
      "metadata": {
        "id": "ZU90QQjBQ2RB"
      }
    },
    {
      "cell_type": "markdown",
      "source": [
        "##Importanto Bibliotecas"
      ],
      "metadata": {
        "id": "jRNyXlUYQ3dE"
      }
    },
    {
      "cell_type": "code",
      "source": [
        "import pandas as pd\n",
        "import numpy as np\n",
        "import matplotlib.pyplot as plt\n",
        "import seaborn as sns"
      ],
      "metadata": {
        "id": "JWRge7mtQ4zt"
      },
      "execution_count": 2,
      "outputs": []
    },
    {
      "cell_type": "markdown",
      "source": [
        "##Importando as bases"
      ],
      "metadata": {
        "id": "UIaxvkvdRIKs"
      }
    },
    {
      "cell_type": "code",
      "source": [
        "df_compras = pd.read_excel('/content/COMPRAS_865e1d278d.xlsx')\n",
        "df_cadastral = pd.read_excel('/content/CADASTRAL.xlsx')\n",
        "df_campanhas = pd.read_excel('/content/CAMPANHAS.xlsx')\n",
        "df_reclamacoes = pd.read_excel('/content/RECLAMACOES.xlsx')"
      ],
      "metadata": {
        "id": "AnIvHsmvRJ-g"
      },
      "execution_count": 3,
      "outputs": []
    },
    {
      "cell_type": "markdown",
      "source": [
        "##EDA (Análise Explorátoria)"
      ],
      "metadata": {
        "id": "hdFCGXDjSDiq"
      }
    },
    {
      "cell_type": "code",
      "source": [
        "#Eda DF_COMPRAS\n",
        "# Quantidade de Linhas\n",
        "num_linhas = df_compras.shape[0]\n",
        "print(f\"Quantidade de linhas: {num_linhas}\")\n",
        "\n",
        "# Quantidade de Colunas\n",
        "num_colunas = df_compras.shape[1]\n",
        "print(f\"Quantidade de colunas: {num_colunas}\")\n",
        "\n",
        "# Tipos de Dados das Colunas\n",
        "print(\"Tipos de dados das colunas:\")\n",
        "print(df_compras.dtypes)\n",
        "\n",
        "# Quantidade de Valores Nulos por Coluna\n",
        "print(\"Qtd. de Valores nulos:\")\n",
        "print(df_compras.isnull().sum())\n",
        "\n",
        "# Quantidade de Valores em Branco por Coluna\n",
        "print(\"Qtd. de Valores brancos:\")\n",
        "print((df_compras.applymap(lambda x: str(x).strip() == \"\")).sum())\n",
        "\n",
        "# Intervalo de Datas da Coluna data_compra\n",
        "print(\"Intervalo de datas da coluna data de compra:\")\n",
        "print(\"Data mínima:\", df_compras[\"data_compra\"].min())\n",
        "print(\"Data máxima:\", df_compras[\"data_compra\"].max())\n",
        "\n",
        "# Intervalo de Datas da Coluna TIMESTAMP\n",
        "if \"TIMESTAMP\" in df_compras.columns:\n",
        "    print(\"Intervalo de datas da coluna TIMESTAMP:\")\n",
        "    print(\"Data mínima:\", df_compras[\"TIMESTAMP\"].min())\n",
        "    print(\"Data máxima:\", df_compras[\"TIMESTAMP\"].max())"
      ],
      "metadata": {
        "colab": {
          "base_uri": "https://localhost:8080/"
        },
        "id": "jLYV35tCSFMU",
        "outputId": "1c79bbd4-7686-40d4-8a1a-d88e947c50e6"
      },
      "execution_count": 4,
      "outputs": [
        {
          "output_type": "stream",
          "name": "stdout",
          "text": [
            "Quantidade de linhas: 140000\n",
            "Quantidade de colunas: 9\n",
            "Tipos de dados das colunas:\n",
            "cliente_id                     object\n",
            "data_compra            datetime64[ns]\n",
            "valor_compra                   object\n",
            "categoria                      object\n",
            "canal_compra                   object\n",
            "status_entrega                 object\n",
            "forma_pagamento                object\n",
            "parcelado                      object\n",
            "quantidade_parcelas             int64\n",
            "dtype: object\n",
            "Qtd. de Valores nulos:\n",
            "cliente_id               0\n",
            "data_compra              0\n",
            "valor_compra             0\n",
            "categoria                0\n",
            "canal_compra             0\n",
            "status_entrega           0\n",
            "forma_pagamento        700\n",
            "parcelado                0\n",
            "quantidade_parcelas      0\n",
            "dtype: int64\n",
            "Qtd. de Valores brancos:\n"
          ]
        },
        {
          "output_type": "stream",
          "name": "stderr",
          "text": [
            "/tmp/ipython-input-4-4213936740.py:20: FutureWarning: DataFrame.applymap has been deprecated. Use DataFrame.map instead.\n",
            "  print((df_compras.applymap(lambda x: str(x).strip() == \"\")).sum())\n"
          ]
        },
        {
          "output_type": "stream",
          "name": "stdout",
          "text": [
            "cliente_id             0\n",
            "data_compra            0\n",
            "valor_compra           0\n",
            "categoria              0\n",
            "canal_compra           0\n",
            "status_entrega         0\n",
            "forma_pagamento        0\n",
            "parcelado              0\n",
            "quantidade_parcelas    0\n",
            "dtype: int64\n",
            "Intervalo de datas da coluna data de compra:\n",
            "Data mínima: 2023-07-01 00:00:00\n",
            "Data máxima: 2026-01-01 00:00:00\n"
          ]
        }
      ]
    },
    {
      "cell_type": "code",
      "source": [
        "#Eda DF_CADASTRAL\n",
        "# Quantidade de Linhas\n",
        "num_linhas = df_cadastral.shape[0]\n",
        "print(f\"Quantidade de linhas: {num_linhas}\")\n",
        "\n",
        "# Quantidade de Colunas\n",
        "num_colunas = df_cadastral.shape[1]\n",
        "print(f\"Quantidade de colunas: {num_colunas}\")\n",
        "\n",
        "# Tipos de Dados das Colunas\n",
        "print(\"Tipos de dados das colunas:\")\n",
        "print(df_cadastral.dtypes)\n",
        "\n",
        "# Quantidade de Valores Nulos por Coluna\n",
        "print(\"Qtd. de Valores nulos:\")\n",
        "print(df_cadastral.isnull().sum())\n",
        "\n",
        "# Quantidade de Valores em Branco por Coluna\n",
        "print(\"Qtd. de Valores brancos:\")\n",
        "print((df_cadastral.applymap(lambda x: str(x).strip() == \"\")).sum())\n",
        "\n",
        "# Intervalo de Datas da Coluna TIMESTAMP\n",
        "if \"TIMESTAMP\" in df_compras.columns:\n",
        "    print(\"Intervalo de datas da coluna TIMESTAMP:\")\n",
        "    print(\"Data mínima:\", df_compras[\"TIMESTAMP\"].min())\n",
        "    print(\"Data máxima:\", df_compras[\"TIMESTAMP\"].max())"
      ],
      "metadata": {
        "colab": {
          "base_uri": "https://localhost:8080/"
        },
        "collapsed": true,
        "id": "20V0iGXLSKiY",
        "outputId": "f768ae87-2ab0-475c-868a-47132b1289dd"
      },
      "execution_count": 5,
      "outputs": [
        {
          "output_type": "stream",
          "name": "stdout",
          "text": [
            "Quantidade de linhas: 150000\n",
            "Quantidade de colunas: 17\n",
            "Tipos de dados das colunas:\n",
            "cliente_id          object\n",
            "sexo                object\n",
            "idade                int64\n",
            "faixa_etaria        object\n",
            "estado              object\n",
            "cidade              object\n",
            "escolaridade        object\n",
            "profissao           object\n",
            "estado_civil        object\n",
            "renda_mensal       float64\n",
            "score_inicial        int64\n",
            "tipo_cliente        object\n",
            "n_dependentes        int64\n",
            "canal_captacao      object\n",
            "status_cadastro     object\n",
            "                   float64\n",
            " .1                float64\n",
            "dtype: object\n",
            "Qtd. de Valores nulos:\n",
            "cliente_id              0\n",
            "sexo                    0\n",
            "idade                   0\n",
            "faixa_etaria            0\n",
            "estado                  0\n",
            "cidade                  0\n",
            "escolaridade            0\n",
            "profissao               0\n",
            "estado_civil            0\n",
            "renda_mensal            0\n",
            "score_inicial           0\n",
            "tipo_cliente            0\n",
            "n_dependentes           0\n",
            "canal_captacao          0\n",
            "status_cadastro         0\n",
            "                   150000\n",
            " .1                150000\n",
            "dtype: int64\n",
            "Qtd. de Valores brancos:\n"
          ]
        },
        {
          "output_type": "stream",
          "name": "stderr",
          "text": [
            "/tmp/ipython-input-5-4319984.py:20: FutureWarning: DataFrame.applymap has been deprecated. Use DataFrame.map instead.\n",
            "  print((df_cadastral.applymap(lambda x: str(x).strip() == \"\")).sum())\n"
          ]
        },
        {
          "output_type": "stream",
          "name": "stdout",
          "text": [
            "cliente_id         0\n",
            "sexo               0\n",
            "idade              0\n",
            "faixa_etaria       0\n",
            "estado             0\n",
            "cidade             0\n",
            "escolaridade       0\n",
            "profissao          0\n",
            "estado_civil       0\n",
            "renda_mensal       0\n",
            "score_inicial      0\n",
            "tipo_cliente       0\n",
            "n_dependentes      0\n",
            "canal_captacao     0\n",
            "status_cadastro    0\n",
            "                   0\n",
            " .1                0\n",
            "dtype: int64\n"
          ]
        }
      ]
    },
    {
      "cell_type": "code",
      "source": [
        "#Eda DF_CAMPANHAS\n",
        "# Quantidade de Linhas\n",
        "num_linhas = df_campanhas.shape[0]\n",
        "print(f\"Quantidade de linhas: {num_linhas}\")\n",
        "\n",
        "# Quantidade de Colunas\n",
        "num_colunas = df_campanhas.shape[1]\n",
        "print(f\"Quantidade de colunas: {num_colunas}\")\n",
        "\n",
        "# Tipos de Dados das Colunas\n",
        "print(\"Tipos de dados das colunas:\")\n",
        "print(df_campanhas.dtypes)\n",
        "\n",
        "# Quantidade de Valores Nulos por Coluna\n",
        "print(\"Qtd. de Valores nulos:\")\n",
        "print(df_campanhas.isnull().sum())\n",
        "\n",
        "# Quantidade de Valores em Branco por Coluna\n",
        "print(\"Qtd. de Valores brancos:\")\n",
        "print((df_campanhas.applymap(lambda x: str(x).strip() == \"\")).sum())\n",
        "\n",
        "# Intervalo de Datas da Coluna data_compra\n",
        "print(\"Intervalo de datas da coluna data de compra:\")\n",
        "print(\"Data mínima:\", df_campanhas[\"data_envio\"].min())\n",
        "print(\"Data máxima:\", df_campanhas[\"data_envio\"].max())\n",
        "\n",
        "# Intervalo de Datas da Coluna TIMESTAMP\n",
        "if \"TIMESTAMP\" in df_campanhas.columns:\n",
        "    print(\"Intervalo de datas da coluna TIMESTAMP:\")\n",
        "    print(\"Data mínima:\", df_campanhas[\"TIMESTAMP\"].min())\n",
        "    print(\"Data máxima:\", df_campanhas[\"TIMESTAMP\"].max())"
      ],
      "metadata": {
        "colab": {
          "base_uri": "https://localhost:8080/"
        },
        "collapsed": true,
        "id": "XmIFTt2uSOeN",
        "outputId": "8454a4cc-1428-4ed1-b9bd-667f0ddc4580"
      },
      "execution_count": 6,
      "outputs": [
        {
          "output_type": "stream",
          "name": "stdout",
          "text": [
            "Quantidade de linhas: 100000\n",
            "Quantidade de colunas: 7\n",
            "Tipos de dados das colunas:\n",
            "cliente_id                     object\n",
            "data_envio             datetime64[ns]\n",
            "tema_campanha                  object\n",
            "canal                          object\n",
            "abriu                          object\n",
            "clicou                         object\n",
            "converteu_em_compra            object\n",
            "dtype: object\n",
            "Qtd. de Valores nulos:\n",
            "cliente_id               0\n",
            "data_envio               0\n",
            "tema_campanha          500\n",
            "canal                    0\n",
            "abriu                    0\n",
            "clicou                 500\n",
            "converteu_em_compra      0\n",
            "dtype: int64\n",
            "Qtd. de Valores brancos:\n"
          ]
        },
        {
          "output_type": "stream",
          "name": "stderr",
          "text": [
            "/tmp/ipython-input-6-517223117.py:20: FutureWarning: DataFrame.applymap has been deprecated. Use DataFrame.map instead.\n",
            "  print((df_campanhas.applymap(lambda x: str(x).strip() == \"\")).sum())\n"
          ]
        },
        {
          "output_type": "stream",
          "name": "stdout",
          "text": [
            "cliente_id             0\n",
            "data_envio             0\n",
            "tema_campanha          0\n",
            "canal                  0\n",
            "abriu                  0\n",
            "clicou                 0\n",
            "converteu_em_compra    0\n",
            "dtype: int64\n",
            "Intervalo de datas da coluna data de compra:\n",
            "Data mínima: 2023-07-01 00:00:00\n",
            "Data máxima: 2027-12-31 00:00:00\n"
          ]
        }
      ]
    },
    {
      "cell_type": "code",
      "source": [
        "#Eda df_reclamacoes\n",
        "# Quantidade de Linhas\n",
        "num_linhas = df_reclamacoes.shape[0]\n",
        "print(f\"Quantidade de linhas: {num_linhas}\")\n",
        "\n",
        "# Quantidade de Colunas\n",
        "num_colunas = df_reclamacoes.shape[1]\n",
        "print(f\"Quantidade de colunas: {num_colunas}\")\n",
        "\n",
        "# Tipos de Dados das Colunas\n",
        "print(\"Tipos de dados das colunas:\")\n",
        "print(df_reclamacoes.dtypes)\n",
        "\n",
        "# Quantidade de Valores Nulos por Coluna\n",
        "print(\"Qtd. de Valores nulos:\")\n",
        "print(df_reclamacoes.isnull().sum())\n",
        "\n",
        "# Quantidade de Valores em Branco por Coluna\n",
        "print(\"Qtd. de Valores brancos:\")\n",
        "print((df_reclamacoes.applymap(lambda x: str(x).strip() == \"\")).sum())\n",
        "\n",
        "# Intervalo de Datas da Coluna data_compra\n",
        "print(\"Intervalo de datas da coluna data de compra:\")\n",
        "print(\"Data mínima:\", df_reclamacoes[\"data_reclamacao\"].min())\n",
        "print(\"Data máxima:\", df_reclamacoes[\"data_reclamacao\"].max())\n",
        "\n",
        "# Intervalo de Datas da Coluna TIMESTAMP\n",
        "if \"TIMESTAMP\" in df_compras.columns:\n",
        "    print(\"Intervalo de datas da coluna TIMESTAMP:\")\n",
        "    print(\"Data mínima:\", df_reclamacoes[\"TIMESTAMP\"].min())\n",
        "    print(\"Data máxima:\", df_reclamacoes[\"TIMESTAMP\"].max())"
      ],
      "metadata": {
        "colab": {
          "base_uri": "https://localhost:8080/"
        },
        "collapsed": true,
        "id": "DVhtnGdhShMH",
        "outputId": "b4285b27-9022-402e-c1bf-12d6039a7a1a"
      },
      "execution_count": 7,
      "outputs": [
        {
          "output_type": "stream",
          "name": "stdout",
          "text": [
            "Quantidade de linhas: 120000\n",
            "Quantidade de colunas: 7\n",
            "Tipos de dados das colunas:\n",
            "cliente_id                     object\n",
            "data_reclamacao        datetime64[ns]\n",
            "tipo_reclamacao                object\n",
            "canal_reclamacao               object\n",
            "tempo_resposta_dias            object\n",
            "status_reclamacao              object\n",
            "reincidente                    object\n",
            "dtype: object\n",
            "Qtd. de Valores nulos:\n",
            "cliente_id                0\n",
            "data_reclamacao           0\n",
            "tipo_reclamacao        1200\n",
            "canal_reclamacao          0\n",
            "tempo_resposta_dias       0\n",
            "status_reclamacao         0\n",
            "reincidente               0\n",
            "dtype: int64\n",
            "Qtd. de Valores brancos:\n"
          ]
        },
        {
          "output_type": "stream",
          "name": "stderr",
          "text": [
            "/tmp/ipython-input-7-1412976555.py:20: FutureWarning: DataFrame.applymap has been deprecated. Use DataFrame.map instead.\n",
            "  print((df_reclamacoes.applymap(lambda x: str(x).strip() == \"\")).sum())\n"
          ]
        },
        {
          "output_type": "stream",
          "name": "stdout",
          "text": [
            "cliente_id             0\n",
            "data_reclamacao        0\n",
            "tipo_reclamacao        0\n",
            "canal_reclamacao       0\n",
            "tempo_resposta_dias    0\n",
            "status_reclamacao      0\n",
            "reincidente            0\n",
            "dtype: int64\n",
            "Intervalo de datas da coluna data de compra:\n",
            "Data mínima: 2023-07-01 00:00:00\n",
            "Data máxima: 2027-01-01 00:00:00\n"
          ]
        }
      ]
    },
    {
      "cell_type": "code",
      "source": [
        "from google.colab import drive\n",
        "drive.mount('/content/drive')"
      ],
      "metadata": {
        "id": "vPRdm5aqMBHt",
        "colab": {
          "base_uri": "https://localhost:8080/"
        },
        "outputId": "4b638c3f-e847-4d9d-8d69-cbfc2cbcb0a0"
      },
      "execution_count": 8,
      "outputs": [
        {
          "output_type": "stream",
          "name": "stdout",
          "text": [
            "Drive already mounted at /content/drive; to attempt to forcibly remount, call drive.mount(\"/content/drive\", force_remount=True).\n"
          ]
        }
      ]
    },
    {
      "cell_type": "markdown",
      "source": [
        "##Tratamentos de dados"
      ],
      "metadata": {
        "id": "aL8MT5mMSkIo"
      }
    },
    {
      "cell_type": "code",
      "source": [
        "#Tratando df_compras. Identificando datas futuras\n",
        "import datetime\n",
        "\n",
        "# Pega a data de hoje\n",
        "data_hoje = datetime.datetime.today()\n",
        "\n",
        "# Filtra as linhas com data_compra maior que hoje\n",
        "futuras = df_compras[df_compras['data_compra'] > data_hoje]\n",
        "\n",
        "# Mostra a quantidade\n",
        "print(f\"Número de compras com data futura: {len(futuras)}\")\n"
      ],
      "metadata": {
        "colab": {
          "base_uri": "https://localhost:8080/"
        },
        "id": "WgyD3uz8vJuH",
        "outputId": "d1ce1ad3-b8e0-4d81-889f-5e92aab4d1f4"
      },
      "execution_count": 9,
      "outputs": [
        {
          "output_type": "stream",
          "name": "stdout",
          "text": [
            "Número de compras com data futura: 700\n"
          ]
        }
      ]
    },
    {
      "cell_type": "code",
      "source": [
        "# Remove as linhas com data_compra no futuro\n",
        "df_compras = df_compras[df_compras['data_compra'] <= data_hoje]\n"
      ],
      "metadata": {
        "id": "0UilBeWgx9Ae"
      },
      "execution_count": 10,
      "outputs": []
    },
    {
      "cell_type": "code",
      "source": [
        "# Mostra a quantidade\n",
        "print(f\"Número de compras com data futura: {len(futuras)}\")"
      ],
      "metadata": {
        "colab": {
          "base_uri": "https://localhost:8080/"
        },
        "id": "4_KxOgKGx-0e",
        "outputId": "6a26a93f-1957-403a-fe56-9bad18b0a5e4"
      },
      "execution_count": 11,
      "outputs": [
        {
          "output_type": "stream",
          "name": "stdout",
          "text": [
            "Número de compras com data futura: 700\n"
          ]
        }
      ]
    },
    {
      "cell_type": "code",
      "source": [
        "print(df_cadastral.dtypes)\n"
      ],
      "metadata": {
        "collapsed": true,
        "colab": {
          "base_uri": "https://localhost:8080/"
        },
        "id": "OSazsThXSlco",
        "outputId": "0a871492-3d82-496c-b8c5-d92f69fc9c21"
      },
      "execution_count": 12,
      "outputs": [
        {
          "output_type": "stream",
          "name": "stdout",
          "text": [
            "cliente_id          object\n",
            "sexo                object\n",
            "idade                int64\n",
            "faixa_etaria        object\n",
            "estado              object\n",
            "cidade              object\n",
            "escolaridade        object\n",
            "profissao           object\n",
            "estado_civil        object\n",
            "renda_mensal       float64\n",
            "score_inicial        int64\n",
            "tipo_cliente        object\n",
            "n_dependentes        int64\n",
            "canal_captacao      object\n",
            "status_cadastro     object\n",
            "                   float64\n",
            " .1                float64\n",
            "dtype: object\n"
          ]
        }
      ]
    },
    {
      "cell_type": "code",
      "source": [
        "#Dropando colunas \" \" e \".1\"(Foi verificado no Google Sheets que as colunas estavam vazias)\n",
        "df_cadastral = df_cadastral.drop(columns=[' ', ' .1'])\n"
      ],
      "metadata": {
        "id": "MOtE3DWHgnEH",
        "collapsed": true
      },
      "execution_count": 13,
      "outputs": []
    },
    {
      "cell_type": "code",
      "source": [
        "df_cadastral.columns"
      ],
      "metadata": {
        "colab": {
          "base_uri": "https://localhost:8080/"
        },
        "id": "G3i6GLUjUG0y",
        "outputId": "c5f13ddd-6025-40a6-f76b-2c2bc9ff01be"
      },
      "execution_count": 14,
      "outputs": [
        {
          "output_type": "execute_result",
          "data": {
            "text/plain": [
              "Index(['cliente_id', 'sexo', 'idade', 'faixa_etaria', 'estado', 'cidade',\n",
              "       'escolaridade', 'profissao', 'estado_civil', 'renda_mensal',\n",
              "       'score_inicial', 'tipo_cliente', 'n_dependentes', 'canal_captacao',\n",
              "       'status_cadastro'],\n",
              "      dtype='object')"
            ]
          },
          "metadata": {},
          "execution_count": 14
        }
      ]
    },
    {
      "cell_type": "markdown",
      "source": [
        "checando duplicatas"
      ],
      "metadata": {
        "id": "zIez_XbPo2Xm"
      }
    },
    {
      "cell_type": "code",
      "source": [
        "df_cadastral.duplicated().sum()"
      ],
      "metadata": {
        "id": "w7AlsKloSswi",
        "colab": {
          "base_uri": "https://localhost:8080/"
        },
        "outputId": "bd54a4a3-abf8-4e40-fe3d-0e061e2c9965"
      },
      "execution_count": 15,
      "outputs": [
        {
          "output_type": "execute_result",
          "data": {
            "text/plain": [
              "np.int64(0)"
            ]
          },
          "metadata": {},
          "execution_count": 15
        }
      ]
    },
    {
      "cell_type": "code",
      "source": [
        "df_reclamacoes.duplicated().sum()"
      ],
      "metadata": {
        "id": "C-emiznCSu6C",
        "colab": {
          "base_uri": "https://localhost:8080/"
        },
        "outputId": "2d81f15f-2227-4aee-cb13-3d73593cd89c"
      },
      "execution_count": 16,
      "outputs": [
        {
          "output_type": "execute_result",
          "data": {
            "text/plain": [
              "np.int64(0)"
            ]
          },
          "metadata": {},
          "execution_count": 16
        }
      ]
    },
    {
      "cell_type": "code",
      "source": [
        "df_campanhas.duplicated().sum()"
      ],
      "metadata": {
        "id": "7sY1J3HGSwP_",
        "colab": {
          "base_uri": "https://localhost:8080/"
        },
        "outputId": "ee541599-b1df-4ee7-ea5d-2a70eabadd2b"
      },
      "execution_count": 17,
      "outputs": [
        {
          "output_type": "execute_result",
          "data": {
            "text/plain": [
              "np.int64(0)"
            ]
          },
          "metadata": {},
          "execution_count": 17
        }
      ]
    },
    {
      "cell_type": "code",
      "source": [
        "df_compras.duplicated().sum()"
      ],
      "metadata": {
        "id": "0h23CVKBSy3H",
        "colab": {
          "base_uri": "https://localhost:8080/"
        },
        "outputId": "e15bed74-2c92-486d-a671-1502c6e352cf"
      },
      "execution_count": 18,
      "outputs": [
        {
          "output_type": "execute_result",
          "data": {
            "text/plain": [
              "np.int64(0)"
            ]
          },
          "metadata": {},
          "execution_count": 18
        }
      ]
    },
    {
      "cell_type": "code",
      "source": [
        "df_compras.dtypes"
      ],
      "metadata": {
        "colab": {
          "base_uri": "https://localhost:8080/",
          "height": 366
        },
        "id": "XmWndK3Cep3L",
        "outputId": "a4e57e50-92f6-46ab-84ef-8dc23cb07fb7"
      },
      "execution_count": 19,
      "outputs": [
        {
          "output_type": "execute_result",
          "data": {
            "text/plain": [
              "cliente_id                     object\n",
              "data_compra            datetime64[ns]\n",
              "valor_compra                   object\n",
              "categoria                      object\n",
              "canal_compra                   object\n",
              "status_entrega                 object\n",
              "forma_pagamento                object\n",
              "parcelado                      object\n",
              "quantidade_parcelas             int64\n",
              "dtype: object"
            ],
            "text/html": [
              "<div>\n",
              "<style scoped>\n",
              "    .dataframe tbody tr th:only-of-type {\n",
              "        vertical-align: middle;\n",
              "    }\n",
              "\n",
              "    .dataframe tbody tr th {\n",
              "        vertical-align: top;\n",
              "    }\n",
              "\n",
              "    .dataframe thead th {\n",
              "        text-align: right;\n",
              "    }\n",
              "</style>\n",
              "<table border=\"1\" class=\"dataframe\">\n",
              "  <thead>\n",
              "    <tr style=\"text-align: right;\">\n",
              "      <th></th>\n",
              "      <th>0</th>\n",
              "    </tr>\n",
              "  </thead>\n",
              "  <tbody>\n",
              "    <tr>\n",
              "      <th>cliente_id</th>\n",
              "      <td>object</td>\n",
              "    </tr>\n",
              "    <tr>\n",
              "      <th>data_compra</th>\n",
              "      <td>datetime64[ns]</td>\n",
              "    </tr>\n",
              "    <tr>\n",
              "      <th>valor_compra</th>\n",
              "      <td>object</td>\n",
              "    </tr>\n",
              "    <tr>\n",
              "      <th>categoria</th>\n",
              "      <td>object</td>\n",
              "    </tr>\n",
              "    <tr>\n",
              "      <th>canal_compra</th>\n",
              "      <td>object</td>\n",
              "    </tr>\n",
              "    <tr>\n",
              "      <th>status_entrega</th>\n",
              "      <td>object</td>\n",
              "    </tr>\n",
              "    <tr>\n",
              "      <th>forma_pagamento</th>\n",
              "      <td>object</td>\n",
              "    </tr>\n",
              "    <tr>\n",
              "      <th>parcelado</th>\n",
              "      <td>object</td>\n",
              "    </tr>\n",
              "    <tr>\n",
              "      <th>quantidade_parcelas</th>\n",
              "      <td>int64</td>\n",
              "    </tr>\n",
              "  </tbody>\n",
              "</table>\n",
              "</div><br><label><b>dtype:</b> object</label>"
            ]
          },
          "metadata": {},
          "execution_count": 19
        }
      ]
    },
    {
      "cell_type": "code",
      "source": [
        "#Altera a coluna valor_compra de object para float\n",
        "df_compras['valor_compra'] = df_compras['valor_compra'].astype(float)"
      ],
      "metadata": {
        "collapsed": true,
        "id": "iAx9zvOsex1y",
        "colab": {
          "base_uri": "https://localhost:8080/",
          "height": 304
        },
        "outputId": "6ee4fcef-8f97-4b01-90fb-135ef1e34948"
      },
      "execution_count": 20,
      "outputs": [
        {
          "output_type": "error",
          "ename": "TypeError",
          "evalue": "float() argument must be a string or a real number, not 'datetime.datetime'",
          "traceback": [
            "\u001b[0;31m---------------------------------------------------------------------------\u001b[0m",
            "\u001b[0;31mTypeError\u001b[0m                                 Traceback (most recent call last)",
            "\u001b[0;32m/tmp/ipython-input-20-2273184605.py\u001b[0m in \u001b[0;36m<cell line: 0>\u001b[0;34m()\u001b[0m\n\u001b[1;32m      1\u001b[0m \u001b[0;31m#Altera a coluna valor_compra de object para float\u001b[0m\u001b[0;34m\u001b[0m\u001b[0;34m\u001b[0m\u001b[0m\n\u001b[0;32m----> 2\u001b[0;31m \u001b[0mdf_compras\u001b[0m\u001b[0;34m[\u001b[0m\u001b[0;34m'valor_compra'\u001b[0m\u001b[0;34m]\u001b[0m \u001b[0;34m=\u001b[0m \u001b[0mdf_compras\u001b[0m\u001b[0;34m[\u001b[0m\u001b[0;34m'valor_compra'\u001b[0m\u001b[0;34m]\u001b[0m\u001b[0;34m.\u001b[0m\u001b[0mastype\u001b[0m\u001b[0;34m(\u001b[0m\u001b[0mfloat\u001b[0m\u001b[0;34m)\u001b[0m\u001b[0;34m\u001b[0m\u001b[0;34m\u001b[0m\u001b[0m\n\u001b[0m",
            "\u001b[0;32m/usr/local/lib/python3.11/dist-packages/pandas/core/generic.py\u001b[0m in \u001b[0;36mastype\u001b[0;34m(self, dtype, copy, errors)\u001b[0m\n\u001b[1;32m   6641\u001b[0m         \u001b[0;32melse\u001b[0m\u001b[0;34m:\u001b[0m\u001b[0;34m\u001b[0m\u001b[0;34m\u001b[0m\u001b[0m\n\u001b[1;32m   6642\u001b[0m             \u001b[0;31m# else, only a single dtype is given\u001b[0m\u001b[0;34m\u001b[0m\u001b[0;34m\u001b[0m\u001b[0m\n\u001b[0;32m-> 6643\u001b[0;31m             \u001b[0mnew_data\u001b[0m \u001b[0;34m=\u001b[0m \u001b[0mself\u001b[0m\u001b[0;34m.\u001b[0m\u001b[0m_mgr\u001b[0m\u001b[0;34m.\u001b[0m\u001b[0mastype\u001b[0m\u001b[0;34m(\u001b[0m\u001b[0mdtype\u001b[0m\u001b[0;34m=\u001b[0m\u001b[0mdtype\u001b[0m\u001b[0;34m,\u001b[0m \u001b[0mcopy\u001b[0m\u001b[0;34m=\u001b[0m\u001b[0mcopy\u001b[0m\u001b[0;34m,\u001b[0m \u001b[0merrors\u001b[0m\u001b[0;34m=\u001b[0m\u001b[0merrors\u001b[0m\u001b[0;34m)\u001b[0m\u001b[0;34m\u001b[0m\u001b[0;34m\u001b[0m\u001b[0m\n\u001b[0m\u001b[1;32m   6644\u001b[0m             \u001b[0mres\u001b[0m \u001b[0;34m=\u001b[0m \u001b[0mself\u001b[0m\u001b[0;34m.\u001b[0m\u001b[0m_constructor_from_mgr\u001b[0m\u001b[0;34m(\u001b[0m\u001b[0mnew_data\u001b[0m\u001b[0;34m,\u001b[0m \u001b[0maxes\u001b[0m\u001b[0;34m=\u001b[0m\u001b[0mnew_data\u001b[0m\u001b[0;34m.\u001b[0m\u001b[0maxes\u001b[0m\u001b[0;34m)\u001b[0m\u001b[0;34m\u001b[0m\u001b[0;34m\u001b[0m\u001b[0m\n\u001b[1;32m   6645\u001b[0m             \u001b[0;32mreturn\u001b[0m \u001b[0mres\u001b[0m\u001b[0;34m.\u001b[0m\u001b[0m__finalize__\u001b[0m\u001b[0;34m(\u001b[0m\u001b[0mself\u001b[0m\u001b[0;34m,\u001b[0m \u001b[0mmethod\u001b[0m\u001b[0;34m=\u001b[0m\u001b[0;34m\"astype\"\u001b[0m\u001b[0;34m)\u001b[0m\u001b[0;34m\u001b[0m\u001b[0;34m\u001b[0m\u001b[0m\n",
            "\u001b[0;32m/usr/local/lib/python3.11/dist-packages/pandas/core/internals/managers.py\u001b[0m in \u001b[0;36mastype\u001b[0;34m(self, dtype, copy, errors)\u001b[0m\n\u001b[1;32m    428\u001b[0m             \u001b[0mcopy\u001b[0m \u001b[0;34m=\u001b[0m \u001b[0;32mFalse\u001b[0m\u001b[0;34m\u001b[0m\u001b[0;34m\u001b[0m\u001b[0m\n\u001b[1;32m    429\u001b[0m \u001b[0;34m\u001b[0m\u001b[0m\n\u001b[0;32m--> 430\u001b[0;31m         return self.apply(\n\u001b[0m\u001b[1;32m    431\u001b[0m             \u001b[0;34m\"astype\"\u001b[0m\u001b[0;34m,\u001b[0m\u001b[0;34m\u001b[0m\u001b[0;34m\u001b[0m\u001b[0m\n\u001b[1;32m    432\u001b[0m             \u001b[0mdtype\u001b[0m\u001b[0;34m=\u001b[0m\u001b[0mdtype\u001b[0m\u001b[0;34m,\u001b[0m\u001b[0;34m\u001b[0m\u001b[0;34m\u001b[0m\u001b[0m\n",
            "\u001b[0;32m/usr/local/lib/python3.11/dist-packages/pandas/core/internals/managers.py\u001b[0m in \u001b[0;36mapply\u001b[0;34m(self, f, align_keys, **kwargs)\u001b[0m\n\u001b[1;32m    361\u001b[0m                 \u001b[0mapplied\u001b[0m \u001b[0;34m=\u001b[0m \u001b[0mb\u001b[0m\u001b[0;34m.\u001b[0m\u001b[0mapply\u001b[0m\u001b[0;34m(\u001b[0m\u001b[0mf\u001b[0m\u001b[0;34m,\u001b[0m \u001b[0;34m**\u001b[0m\u001b[0mkwargs\u001b[0m\u001b[0;34m)\u001b[0m\u001b[0;34m\u001b[0m\u001b[0;34m\u001b[0m\u001b[0m\n\u001b[1;32m    362\u001b[0m             \u001b[0;32melse\u001b[0m\u001b[0;34m:\u001b[0m\u001b[0;34m\u001b[0m\u001b[0;34m\u001b[0m\u001b[0m\n\u001b[0;32m--> 363\u001b[0;31m                 \u001b[0mapplied\u001b[0m \u001b[0;34m=\u001b[0m \u001b[0mgetattr\u001b[0m\u001b[0;34m(\u001b[0m\u001b[0mb\u001b[0m\u001b[0;34m,\u001b[0m \u001b[0mf\u001b[0m\u001b[0;34m)\u001b[0m\u001b[0;34m(\u001b[0m\u001b[0;34m**\u001b[0m\u001b[0mkwargs\u001b[0m\u001b[0;34m)\u001b[0m\u001b[0;34m\u001b[0m\u001b[0;34m\u001b[0m\u001b[0m\n\u001b[0m\u001b[1;32m    364\u001b[0m             \u001b[0mresult_blocks\u001b[0m \u001b[0;34m=\u001b[0m \u001b[0mextend_blocks\u001b[0m\u001b[0;34m(\u001b[0m\u001b[0mapplied\u001b[0m\u001b[0;34m,\u001b[0m \u001b[0mresult_blocks\u001b[0m\u001b[0;34m)\u001b[0m\u001b[0;34m\u001b[0m\u001b[0;34m\u001b[0m\u001b[0m\n\u001b[1;32m    365\u001b[0m \u001b[0;34m\u001b[0m\u001b[0m\n",
            "\u001b[0;32m/usr/local/lib/python3.11/dist-packages/pandas/core/internals/blocks.py\u001b[0m in \u001b[0;36mastype\u001b[0;34m(self, dtype, copy, errors, using_cow, squeeze)\u001b[0m\n\u001b[1;32m    756\u001b[0m             \u001b[0mvalues\u001b[0m \u001b[0;34m=\u001b[0m \u001b[0mvalues\u001b[0m\u001b[0;34m[\u001b[0m\u001b[0;36m0\u001b[0m\u001b[0;34m,\u001b[0m \u001b[0;34m:\u001b[0m\u001b[0;34m]\u001b[0m  \u001b[0;31m# type: ignore[call-overload]\u001b[0m\u001b[0;34m\u001b[0m\u001b[0;34m\u001b[0m\u001b[0m\n\u001b[1;32m    757\u001b[0m \u001b[0;34m\u001b[0m\u001b[0m\n\u001b[0;32m--> 758\u001b[0;31m         \u001b[0mnew_values\u001b[0m \u001b[0;34m=\u001b[0m \u001b[0mastype_array_safe\u001b[0m\u001b[0;34m(\u001b[0m\u001b[0mvalues\u001b[0m\u001b[0;34m,\u001b[0m \u001b[0mdtype\u001b[0m\u001b[0;34m,\u001b[0m \u001b[0mcopy\u001b[0m\u001b[0;34m=\u001b[0m\u001b[0mcopy\u001b[0m\u001b[0;34m,\u001b[0m \u001b[0merrors\u001b[0m\u001b[0;34m=\u001b[0m\u001b[0merrors\u001b[0m\u001b[0;34m)\u001b[0m\u001b[0;34m\u001b[0m\u001b[0;34m\u001b[0m\u001b[0m\n\u001b[0m\u001b[1;32m    759\u001b[0m \u001b[0;34m\u001b[0m\u001b[0m\n\u001b[1;32m    760\u001b[0m         \u001b[0mnew_values\u001b[0m \u001b[0;34m=\u001b[0m \u001b[0mmaybe_coerce_values\u001b[0m\u001b[0;34m(\u001b[0m\u001b[0mnew_values\u001b[0m\u001b[0;34m)\u001b[0m\u001b[0;34m\u001b[0m\u001b[0;34m\u001b[0m\u001b[0m\n",
            "\u001b[0;32m/usr/local/lib/python3.11/dist-packages/pandas/core/dtypes/astype.py\u001b[0m in \u001b[0;36mastype_array_safe\u001b[0;34m(values, dtype, copy, errors)\u001b[0m\n\u001b[1;32m    235\u001b[0m \u001b[0;34m\u001b[0m\u001b[0m\n\u001b[1;32m    236\u001b[0m     \u001b[0;32mtry\u001b[0m\u001b[0;34m:\u001b[0m\u001b[0;34m\u001b[0m\u001b[0;34m\u001b[0m\u001b[0m\n\u001b[0;32m--> 237\u001b[0;31m         \u001b[0mnew_values\u001b[0m \u001b[0;34m=\u001b[0m \u001b[0mastype_array\u001b[0m\u001b[0;34m(\u001b[0m\u001b[0mvalues\u001b[0m\u001b[0;34m,\u001b[0m \u001b[0mdtype\u001b[0m\u001b[0;34m,\u001b[0m \u001b[0mcopy\u001b[0m\u001b[0;34m=\u001b[0m\u001b[0mcopy\u001b[0m\u001b[0;34m)\u001b[0m\u001b[0;34m\u001b[0m\u001b[0;34m\u001b[0m\u001b[0m\n\u001b[0m\u001b[1;32m    238\u001b[0m     \u001b[0;32mexcept\u001b[0m \u001b[0;34m(\u001b[0m\u001b[0mValueError\u001b[0m\u001b[0;34m,\u001b[0m \u001b[0mTypeError\u001b[0m\u001b[0;34m)\u001b[0m\u001b[0;34m:\u001b[0m\u001b[0;34m\u001b[0m\u001b[0;34m\u001b[0m\u001b[0m\n\u001b[1;32m    239\u001b[0m         \u001b[0;31m# e.g. _astype_nansafe can fail on object-dtype of strings\u001b[0m\u001b[0;34m\u001b[0m\u001b[0;34m\u001b[0m\u001b[0m\n",
            "\u001b[0;32m/usr/local/lib/python3.11/dist-packages/pandas/core/dtypes/astype.py\u001b[0m in \u001b[0;36mastype_array\u001b[0;34m(values, dtype, copy)\u001b[0m\n\u001b[1;32m    180\u001b[0m \u001b[0;34m\u001b[0m\u001b[0m\n\u001b[1;32m    181\u001b[0m     \u001b[0;32melse\u001b[0m\u001b[0;34m:\u001b[0m\u001b[0;34m\u001b[0m\u001b[0;34m\u001b[0m\u001b[0m\n\u001b[0;32m--> 182\u001b[0;31m         \u001b[0mvalues\u001b[0m \u001b[0;34m=\u001b[0m \u001b[0m_astype_nansafe\u001b[0m\u001b[0;34m(\u001b[0m\u001b[0mvalues\u001b[0m\u001b[0;34m,\u001b[0m \u001b[0mdtype\u001b[0m\u001b[0;34m,\u001b[0m \u001b[0mcopy\u001b[0m\u001b[0;34m=\u001b[0m\u001b[0mcopy\u001b[0m\u001b[0;34m)\u001b[0m\u001b[0;34m\u001b[0m\u001b[0;34m\u001b[0m\u001b[0m\n\u001b[0m\u001b[1;32m    183\u001b[0m \u001b[0;34m\u001b[0m\u001b[0m\n\u001b[1;32m    184\u001b[0m     \u001b[0;31m# in pandas we don't store numpy str dtypes, so convert to object\u001b[0m\u001b[0;34m\u001b[0m\u001b[0;34m\u001b[0m\u001b[0m\n",
            "\u001b[0;32m/usr/local/lib/python3.11/dist-packages/pandas/core/dtypes/astype.py\u001b[0m in \u001b[0;36m_astype_nansafe\u001b[0;34m(arr, dtype, copy, skipna)\u001b[0m\n\u001b[1;32m    131\u001b[0m     \u001b[0;32mif\u001b[0m \u001b[0mcopy\u001b[0m \u001b[0;32mor\u001b[0m \u001b[0marr\u001b[0m\u001b[0;34m.\u001b[0m\u001b[0mdtype\u001b[0m \u001b[0;34m==\u001b[0m \u001b[0mobject\u001b[0m \u001b[0;32mor\u001b[0m \u001b[0mdtype\u001b[0m \u001b[0;34m==\u001b[0m \u001b[0mobject\u001b[0m\u001b[0;34m:\u001b[0m\u001b[0;34m\u001b[0m\u001b[0;34m\u001b[0m\u001b[0m\n\u001b[1;32m    132\u001b[0m         \u001b[0;31m# Explicit copy, or required since NumPy can't view from / to object.\u001b[0m\u001b[0;34m\u001b[0m\u001b[0;34m\u001b[0m\u001b[0m\n\u001b[0;32m--> 133\u001b[0;31m         \u001b[0;32mreturn\u001b[0m \u001b[0marr\u001b[0m\u001b[0;34m.\u001b[0m\u001b[0mastype\u001b[0m\u001b[0;34m(\u001b[0m\u001b[0mdtype\u001b[0m\u001b[0;34m,\u001b[0m \u001b[0mcopy\u001b[0m\u001b[0;34m=\u001b[0m\u001b[0;32mTrue\u001b[0m\u001b[0;34m)\u001b[0m\u001b[0;34m\u001b[0m\u001b[0;34m\u001b[0m\u001b[0m\n\u001b[0m\u001b[1;32m    134\u001b[0m \u001b[0;34m\u001b[0m\u001b[0m\n\u001b[1;32m    135\u001b[0m     \u001b[0;32mreturn\u001b[0m \u001b[0marr\u001b[0m\u001b[0;34m.\u001b[0m\u001b[0mastype\u001b[0m\u001b[0;34m(\u001b[0m\u001b[0mdtype\u001b[0m\u001b[0;34m,\u001b[0m \u001b[0mcopy\u001b[0m\u001b[0;34m=\u001b[0m\u001b[0mcopy\u001b[0m\u001b[0;34m)\u001b[0m\u001b[0;34m\u001b[0m\u001b[0;34m\u001b[0m\u001b[0m\n",
            "\u001b[0;31mTypeError\u001b[0m: float() argument must be a string or a real number, not 'datetime.datetime'"
          ]
        }
      ]
    },
    {
      "cell_type": "code",
      "source": [
        "df_compras['valor_compra'].apply(type).value_counts()#Investigando a coluna valor_compra\n"
      ],
      "metadata": {
        "colab": {
          "base_uri": "https://localhost:8080/",
          "height": 178
        },
        "collapsed": true,
        "id": "i9F6bJFoe0zB",
        "outputId": "6d4b45c5-237a-40c5-b657-a15b4d63a0e9"
      },
      "execution_count": 21,
      "outputs": [
        {
          "output_type": "execute_result",
          "data": {
            "text/plain": [
              "valor_compra\n",
              "<class 'str'>                  139260\n",
              "<class 'datetime.datetime'>        40\n",
              "Name: count, dtype: int64"
            ],
            "text/html": [
              "<div>\n",
              "<style scoped>\n",
              "    .dataframe tbody tr th:only-of-type {\n",
              "        vertical-align: middle;\n",
              "    }\n",
              "\n",
              "    .dataframe tbody tr th {\n",
              "        vertical-align: top;\n",
              "    }\n",
              "\n",
              "    .dataframe thead th {\n",
              "        text-align: right;\n",
              "    }\n",
              "</style>\n",
              "<table border=\"1\" class=\"dataframe\">\n",
              "  <thead>\n",
              "    <tr style=\"text-align: right;\">\n",
              "      <th></th>\n",
              "      <th>count</th>\n",
              "    </tr>\n",
              "    <tr>\n",
              "      <th>valor_compra</th>\n",
              "      <th></th>\n",
              "    </tr>\n",
              "  </thead>\n",
              "  <tbody>\n",
              "    <tr>\n",
              "      <th>&lt;class 'str'&gt;</th>\n",
              "      <td>139260</td>\n",
              "    </tr>\n",
              "    <tr>\n",
              "      <th>&lt;class 'datetime.datetime'&gt;</th>\n",
              "      <td>40</td>\n",
              "    </tr>\n",
              "  </tbody>\n",
              "</table>\n",
              "</div><br><label><b>dtype:</b> int64</label>"
            ]
          },
          "metadata": {},
          "execution_count": 21
        }
      ]
    },
    {
      "cell_type": "code",
      "source": [
        "# Remove do DataFrame as linhas onde 'valor_compra' não pode ser convertida para float(40 linhas estavam com dados inconsistentes então eu os removi)\n",
        "# Garante que apenas valores numéricos válidos permaneçam na coluna.\n",
        "\n",
        "def is_valor_valido(valor):\n",
        "    try:\n",
        "        float(valor)  # testa apenas se pode ser convertido para float\n",
        "        return True\n",
        "    except:\n",
        "        return False\n",
        "\n",
        "# Mantém somente as linhas com valores numéricos válidos\n",
        "df_compras = df_compras[df_compras['valor_compra'].apply(is_valor_valido)]\n"
      ],
      "metadata": {
        "id": "nDEnzc_QYRpk"
      },
      "execution_count": 22,
      "outputs": []
    },
    {
      "cell_type": "code",
      "source": [
        "#Altera o tipo de object para float\n",
        "df_compras['valor_compra'] = df_compras['valor_compra'].astype(float)\n"
      ],
      "metadata": {
        "id": "IGDXdK0MtW9s"
      },
      "execution_count": 23,
      "outputs": []
    },
    {
      "cell_type": "code",
      "source": [
        "df_compras.dtypes  #verificando se o tipo foi alterado"
      ],
      "metadata": {
        "id": "E1Mj74R3dQYr",
        "colab": {
          "base_uri": "https://localhost:8080/",
          "height": 366
        },
        "outputId": "7e5e328e-8ba9-4f65-b6d0-75bcc6ad1e00"
      },
      "execution_count": 24,
      "outputs": [
        {
          "output_type": "execute_result",
          "data": {
            "text/plain": [
              "cliente_id                     object\n",
              "data_compra            datetime64[ns]\n",
              "valor_compra                  float64\n",
              "categoria                      object\n",
              "canal_compra                   object\n",
              "status_entrega                 object\n",
              "forma_pagamento                object\n",
              "parcelado                      object\n",
              "quantidade_parcelas             int64\n",
              "dtype: object"
            ],
            "text/html": [
              "<div>\n",
              "<style scoped>\n",
              "    .dataframe tbody tr th:only-of-type {\n",
              "        vertical-align: middle;\n",
              "    }\n",
              "\n",
              "    .dataframe tbody tr th {\n",
              "        vertical-align: top;\n",
              "    }\n",
              "\n",
              "    .dataframe thead th {\n",
              "        text-align: right;\n",
              "    }\n",
              "</style>\n",
              "<table border=\"1\" class=\"dataframe\">\n",
              "  <thead>\n",
              "    <tr style=\"text-align: right;\">\n",
              "      <th></th>\n",
              "      <th>0</th>\n",
              "    </tr>\n",
              "  </thead>\n",
              "  <tbody>\n",
              "    <tr>\n",
              "      <th>cliente_id</th>\n",
              "      <td>object</td>\n",
              "    </tr>\n",
              "    <tr>\n",
              "      <th>data_compra</th>\n",
              "      <td>datetime64[ns]</td>\n",
              "    </tr>\n",
              "    <tr>\n",
              "      <th>valor_compra</th>\n",
              "      <td>float64</td>\n",
              "    </tr>\n",
              "    <tr>\n",
              "      <th>categoria</th>\n",
              "      <td>object</td>\n",
              "    </tr>\n",
              "    <tr>\n",
              "      <th>canal_compra</th>\n",
              "      <td>object</td>\n",
              "    </tr>\n",
              "    <tr>\n",
              "      <th>status_entrega</th>\n",
              "      <td>object</td>\n",
              "    </tr>\n",
              "    <tr>\n",
              "      <th>forma_pagamento</th>\n",
              "      <td>object</td>\n",
              "    </tr>\n",
              "    <tr>\n",
              "      <th>parcelado</th>\n",
              "      <td>object</td>\n",
              "    </tr>\n",
              "    <tr>\n",
              "      <th>quantidade_parcelas</th>\n",
              "      <td>int64</td>\n",
              "    </tr>\n",
              "  </tbody>\n",
              "</table>\n",
              "</div><br><label><b>dtype:</b> object</label>"
            ]
          },
          "metadata": {},
          "execution_count": 24
        }
      ]
    },
    {
      "cell_type": "code",
      "source": [
        "#Contas valores nulos no df_campanhas\n",
        "df_campanhas.isnull().sum()"
      ],
      "metadata": {
        "collapsed": true,
        "id": "4NmxXwtCffLS",
        "colab": {
          "base_uri": "https://localhost:8080/",
          "height": 304
        },
        "outputId": "c8df5dd7-fc89-41c1-a5b4-00117aacbbf7"
      },
      "execution_count": 25,
      "outputs": [
        {
          "output_type": "execute_result",
          "data": {
            "text/plain": [
              "cliente_id               0\n",
              "data_envio               0\n",
              "tema_campanha          500\n",
              "canal                    0\n",
              "abriu                    0\n",
              "clicou                 500\n",
              "converteu_em_compra      0\n",
              "dtype: int64"
            ],
            "text/html": [
              "<div>\n",
              "<style scoped>\n",
              "    .dataframe tbody tr th:only-of-type {\n",
              "        vertical-align: middle;\n",
              "    }\n",
              "\n",
              "    .dataframe tbody tr th {\n",
              "        vertical-align: top;\n",
              "    }\n",
              "\n",
              "    .dataframe thead th {\n",
              "        text-align: right;\n",
              "    }\n",
              "</style>\n",
              "<table border=\"1\" class=\"dataframe\">\n",
              "  <thead>\n",
              "    <tr style=\"text-align: right;\">\n",
              "      <th></th>\n",
              "      <th>0</th>\n",
              "    </tr>\n",
              "  </thead>\n",
              "  <tbody>\n",
              "    <tr>\n",
              "      <th>cliente_id</th>\n",
              "      <td>0</td>\n",
              "    </tr>\n",
              "    <tr>\n",
              "      <th>data_envio</th>\n",
              "      <td>0</td>\n",
              "    </tr>\n",
              "    <tr>\n",
              "      <th>tema_campanha</th>\n",
              "      <td>500</td>\n",
              "    </tr>\n",
              "    <tr>\n",
              "      <th>canal</th>\n",
              "      <td>0</td>\n",
              "    </tr>\n",
              "    <tr>\n",
              "      <th>abriu</th>\n",
              "      <td>0</td>\n",
              "    </tr>\n",
              "    <tr>\n",
              "      <th>clicou</th>\n",
              "      <td>500</td>\n",
              "    </tr>\n",
              "    <tr>\n",
              "      <th>converteu_em_compra</th>\n",
              "      <td>0</td>\n",
              "    </tr>\n",
              "  </tbody>\n",
              "</table>\n",
              "</div><br><label><b>dtype:</b> int64</label>"
            ]
          },
          "metadata": {},
          "execution_count": 25
        }
      ]
    },
    {
      "cell_type": "code",
      "source": [
        "#Investigando as linhas inconsistentes(valores nulos)\n",
        "linhas_inconsistentes = df_campanhas[\n",
        "    df_campanhas['tema_campanha'].isnull() |\n",
        "    df_campanhas['clicou'].isnull()\n",
        "]\n"
      ],
      "metadata": {
        "id": "mHazxZ5KfjOy"
      },
      "execution_count": 26,
      "outputs": []
    },
    {
      "cell_type": "code",
      "source": [
        "#Dropando linhas nulas\n",
        "df_campanhas = df_campanhas.drop(linhas_inconsistentes.index)"
      ],
      "metadata": {
        "id": "QrPA_lu2gVuI"
      },
      "execution_count": 27,
      "outputs": []
    },
    {
      "cell_type": "code",
      "source": [
        "#verificando se linhas foram excluidas\n",
        "df_campanhas.isnull().sum()"
      ],
      "metadata": {
        "collapsed": true,
        "colab": {
          "base_uri": "https://localhost:8080/",
          "height": 304
        },
        "id": "aSqypZesgewr",
        "outputId": "b3a67d9a-bf3b-4811-bc6f-0760a7ac0ffa"
      },
      "execution_count": 28,
      "outputs": [
        {
          "output_type": "execute_result",
          "data": {
            "text/plain": [
              "cliente_id             0\n",
              "data_envio             0\n",
              "tema_campanha          0\n",
              "canal                  0\n",
              "abriu                  0\n",
              "clicou                 0\n",
              "converteu_em_compra    0\n",
              "dtype: int64"
            ],
            "text/html": [
              "<div>\n",
              "<style scoped>\n",
              "    .dataframe tbody tr th:only-of-type {\n",
              "        vertical-align: middle;\n",
              "    }\n",
              "\n",
              "    .dataframe tbody tr th {\n",
              "        vertical-align: top;\n",
              "    }\n",
              "\n",
              "    .dataframe thead th {\n",
              "        text-align: right;\n",
              "    }\n",
              "</style>\n",
              "<table border=\"1\" class=\"dataframe\">\n",
              "  <thead>\n",
              "    <tr style=\"text-align: right;\">\n",
              "      <th></th>\n",
              "      <th>0</th>\n",
              "    </tr>\n",
              "  </thead>\n",
              "  <tbody>\n",
              "    <tr>\n",
              "      <th>cliente_id</th>\n",
              "      <td>0</td>\n",
              "    </tr>\n",
              "    <tr>\n",
              "      <th>data_envio</th>\n",
              "      <td>0</td>\n",
              "    </tr>\n",
              "    <tr>\n",
              "      <th>tema_campanha</th>\n",
              "      <td>0</td>\n",
              "    </tr>\n",
              "    <tr>\n",
              "      <th>canal</th>\n",
              "      <td>0</td>\n",
              "    </tr>\n",
              "    <tr>\n",
              "      <th>abriu</th>\n",
              "      <td>0</td>\n",
              "    </tr>\n",
              "    <tr>\n",
              "      <th>clicou</th>\n",
              "      <td>0</td>\n",
              "    </tr>\n",
              "    <tr>\n",
              "      <th>converteu_em_compra</th>\n",
              "      <td>0</td>\n",
              "    </tr>\n",
              "  </tbody>\n",
              "</table>\n",
              "</div><br><label><b>dtype:</b> int64</label>"
            ]
          },
          "metadata": {},
          "execution_count": 28
        }
      ]
    },
    {
      "cell_type": "code",
      "source": [
        "#verificando valores nulos no df_reclamação\n",
        "df_reclamacoes.isnull().sum()"
      ],
      "metadata": {
        "colab": {
          "base_uri": "https://localhost:8080/",
          "height": 304
        },
        "collapsed": true,
        "id": "3by3UCGNgouT",
        "outputId": "6d3c73d5-1ea8-40ee-a504-476a618c6f9c"
      },
      "execution_count": 29,
      "outputs": [
        {
          "output_type": "execute_result",
          "data": {
            "text/plain": [
              "cliente_id                0\n",
              "data_reclamacao           0\n",
              "tipo_reclamacao        1200\n",
              "canal_reclamacao          0\n",
              "tempo_resposta_dias       0\n",
              "status_reclamacao         0\n",
              "reincidente               0\n",
              "dtype: int64"
            ],
            "text/html": [
              "<div>\n",
              "<style scoped>\n",
              "    .dataframe tbody tr th:only-of-type {\n",
              "        vertical-align: middle;\n",
              "    }\n",
              "\n",
              "    .dataframe tbody tr th {\n",
              "        vertical-align: top;\n",
              "    }\n",
              "\n",
              "    .dataframe thead th {\n",
              "        text-align: right;\n",
              "    }\n",
              "</style>\n",
              "<table border=\"1\" class=\"dataframe\">\n",
              "  <thead>\n",
              "    <tr style=\"text-align: right;\">\n",
              "      <th></th>\n",
              "      <th>0</th>\n",
              "    </tr>\n",
              "  </thead>\n",
              "  <tbody>\n",
              "    <tr>\n",
              "      <th>cliente_id</th>\n",
              "      <td>0</td>\n",
              "    </tr>\n",
              "    <tr>\n",
              "      <th>data_reclamacao</th>\n",
              "      <td>0</td>\n",
              "    </tr>\n",
              "    <tr>\n",
              "      <th>tipo_reclamacao</th>\n",
              "      <td>1200</td>\n",
              "    </tr>\n",
              "    <tr>\n",
              "      <th>canal_reclamacao</th>\n",
              "      <td>0</td>\n",
              "    </tr>\n",
              "    <tr>\n",
              "      <th>tempo_resposta_dias</th>\n",
              "      <td>0</td>\n",
              "    </tr>\n",
              "    <tr>\n",
              "      <th>status_reclamacao</th>\n",
              "      <td>0</td>\n",
              "    </tr>\n",
              "    <tr>\n",
              "      <th>reincidente</th>\n",
              "      <td>0</td>\n",
              "    </tr>\n",
              "  </tbody>\n",
              "</table>\n",
              "</div><br><label><b>dtype:</b> int64</label>"
            ]
          },
          "metadata": {},
          "execution_count": 29
        }
      ]
    },
    {
      "cell_type": "code",
      "source": [
        "#Investigando as linhas inconsistentes(valores nulos) no df_reclamacoes\n",
        "linhas_inconsistentesrec = df_reclamacoes[\n",
        "    df_reclamacoes['tipo_reclamacao'].isnull() ]"
      ],
      "metadata": {
        "id": "BxrFgfwugsL3"
      },
      "execution_count": 30,
      "outputs": []
    },
    {
      "cell_type": "code",
      "source": [
        "print(f\"Linhas inconsistentes: {len(linhas_inconsistentesrec)}\")\n"
      ],
      "metadata": {
        "colab": {
          "base_uri": "https://localhost:8080/"
        },
        "id": "NqrMZ22ZhMVM",
        "outputId": "cfd1574f-5d9c-4ee4-85fc-5737c42548d1"
      },
      "execution_count": 31,
      "outputs": [
        {
          "output_type": "stream",
          "name": "stdout",
          "text": [
            "Linhas inconsistentes: 1200\n"
          ]
        }
      ]
    },
    {
      "cell_type": "code",
      "source": [
        "#dropando linhas com valores nulos\n",
        "df_reclamacoes = df_reclamacoes.drop(linhas_inconsistentesrec.index)"
      ],
      "metadata": {
        "id": "B8OvF3CihRDS"
      },
      "execution_count": 32,
      "outputs": []
    },
    {
      "cell_type": "code",
      "source": [
        "#Checando se o drop deu certo\n",
        "df_reclamacoes.isnull().sum()"
      ],
      "metadata": {
        "colab": {
          "base_uri": "https://localhost:8080/",
          "height": 304
        },
        "collapsed": true,
        "id": "lvuhIOIChawO",
        "outputId": "24841d69-1916-4c77-8dc7-1b98328af4cc"
      },
      "execution_count": 33,
      "outputs": [
        {
          "output_type": "execute_result",
          "data": {
            "text/plain": [
              "cliente_id             0\n",
              "data_reclamacao        0\n",
              "tipo_reclamacao        0\n",
              "canal_reclamacao       0\n",
              "tempo_resposta_dias    0\n",
              "status_reclamacao      0\n",
              "reincidente            0\n",
              "dtype: int64"
            ],
            "text/html": [
              "<div>\n",
              "<style scoped>\n",
              "    .dataframe tbody tr th:only-of-type {\n",
              "        vertical-align: middle;\n",
              "    }\n",
              "\n",
              "    .dataframe tbody tr th {\n",
              "        vertical-align: top;\n",
              "    }\n",
              "\n",
              "    .dataframe thead th {\n",
              "        text-align: right;\n",
              "    }\n",
              "</style>\n",
              "<table border=\"1\" class=\"dataframe\">\n",
              "  <thead>\n",
              "    <tr style=\"text-align: right;\">\n",
              "      <th></th>\n",
              "      <th>0</th>\n",
              "    </tr>\n",
              "  </thead>\n",
              "  <tbody>\n",
              "    <tr>\n",
              "      <th>cliente_id</th>\n",
              "      <td>0</td>\n",
              "    </tr>\n",
              "    <tr>\n",
              "      <th>data_reclamacao</th>\n",
              "      <td>0</td>\n",
              "    </tr>\n",
              "    <tr>\n",
              "      <th>tipo_reclamacao</th>\n",
              "      <td>0</td>\n",
              "    </tr>\n",
              "    <tr>\n",
              "      <th>canal_reclamacao</th>\n",
              "      <td>0</td>\n",
              "    </tr>\n",
              "    <tr>\n",
              "      <th>tempo_resposta_dias</th>\n",
              "      <td>0</td>\n",
              "    </tr>\n",
              "    <tr>\n",
              "      <th>status_reclamacao</th>\n",
              "      <td>0</td>\n",
              "    </tr>\n",
              "    <tr>\n",
              "      <th>reincidente</th>\n",
              "      <td>0</td>\n",
              "    </tr>\n",
              "  </tbody>\n",
              "</table>\n",
              "</div><br><label><b>dtype:</b> int64</label>"
            ]
          },
          "metadata": {},
          "execution_count": 33
        }
      ]
    },
    {
      "cell_type": "markdown",
      "source": [
        "##Criando Colunas"
      ],
      "metadata": {
        "id": "IRuAAb7Zm2K7"
      }
    },
    {
      "cell_type": "code",
      "source": [
        "#nCria nova coluna booleana para SEXO\n",
        "# Padroniza e converte: masculino = True, feminino = False\n",
        "df_cadastral['sexo_bool'] = df_cadastral['sexo'].str.strip().str.lower().map({\n",
        "    'masculino': True,\n",
        "    'feminino': False\n",
        "})"
      ],
      "metadata": {
        "id": "l8d9XQnvm5FX"
      },
      "execution_count": 35,
      "outputs": []
    },
    {
      "cell_type": "code",
      "source": [
        "#Cria 3 novas colunas booleanas para abriu, clicou, converteu_em_compra\n",
        "for col in ['abriu', 'clicou', 'converteu_em_compra']:\n",
        "    df_campanhas[col + '_bool'] = df_campanhas[col].str.strip().str.lower().map({\n",
        "        'sim': True,\n",
        "        'não': False\n",
        "    })"
      ],
      "metadata": {
        "id": "_ndXcVa0qrbV"
      },
      "execution_count": 36,
      "outputs": []
    },
    {
      "cell_type": "code",
      "source": [
        "# Agora cria a coluna 'ano_mes' no formato 'YYYY-MM'\n",
        "df_compras['ano_mes'] = df_compras['data_compra'].dt.to_period('M').astype(str)"
      ],
      "metadata": {
        "id": "dczWwc9wqznP"
      },
      "execution_count": 37,
      "outputs": []
    },
    {
      "cell_type": "code",
      "source": [
        "#Cria coluna ano_mes referente a data de reclamação.\n",
        "df_reclamacoes['ano_mes'] = df_reclamacoes['data_reclamacao'].dt.to_period('M').astype(str)\n"
      ],
      "metadata": {
        "id": "eUeUmfJACdka"
      },
      "execution_count": 38,
      "outputs": []
    },
    {
      "cell_type": "markdown",
      "source": [
        "#Agrupamentos"
      ],
      "metadata": {
        "id": "h9uTlCIGq6yi"
      }
    },
    {
      "cell_type": "code",
      "source": [
        "#Agrupar total de gastos por cliente\n",
        "# Agrupar por cliente e somar o valor das compras\n",
        "total_gasto_cliente = df_compras.groupby('cliente_id')['valor_compra'].sum().reset_index()\n",
        "\n",
        "# Renomear a coluna para facilitar o uso depois\n",
        "total_gasto_cliente.columns = ['cliente_id', 'total_gasto_cliente']\n"
      ],
      "metadata": {
        "id": "7ByPOgKZz4-h"
      },
      "execution_count": 39,
      "outputs": []
    },
    {
      "cell_type": "markdown",
      "source": [],
      "metadata": {
        "id": "gbDq-Dq9xljy"
      }
    },
    {
      "cell_type": "code",
      "source": [
        "#Verifica qual faixa etária mais frequente dos clientes\n",
        "df_cadastral['faixa_etaria'].value_counts()\n"
      ],
      "metadata": {
        "id": "hyM9FjGx_tew",
        "colab": {
          "base_uri": "https://localhost:8080/",
          "height": 272
        },
        "outputId": "88ee2f3b-847f-4ff3-d64e-97be5fa0a798"
      },
      "execution_count": 40,
      "outputs": [
        {
          "output_type": "execute_result",
          "data": {
            "text/plain": [
              "faixa_etaria\n",
              "25-34    42110\n",
              "35-44    32916\n",
              "45-59    29955\n",
              "18-24    27079\n",
              "60+      17940\n",
              "Name: count, dtype: int64"
            ],
            "text/html": [
              "<div>\n",
              "<style scoped>\n",
              "    .dataframe tbody tr th:only-of-type {\n",
              "        vertical-align: middle;\n",
              "    }\n",
              "\n",
              "    .dataframe tbody tr th {\n",
              "        vertical-align: top;\n",
              "    }\n",
              "\n",
              "    .dataframe thead th {\n",
              "        text-align: right;\n",
              "    }\n",
              "</style>\n",
              "<table border=\"1\" class=\"dataframe\">\n",
              "  <thead>\n",
              "    <tr style=\"text-align: right;\">\n",
              "      <th></th>\n",
              "      <th>count</th>\n",
              "    </tr>\n",
              "    <tr>\n",
              "      <th>faixa_etaria</th>\n",
              "      <th></th>\n",
              "    </tr>\n",
              "  </thead>\n",
              "  <tbody>\n",
              "    <tr>\n",
              "      <th>25-34</th>\n",
              "      <td>42110</td>\n",
              "    </tr>\n",
              "    <tr>\n",
              "      <th>35-44</th>\n",
              "      <td>32916</td>\n",
              "    </tr>\n",
              "    <tr>\n",
              "      <th>45-59</th>\n",
              "      <td>29955</td>\n",
              "    </tr>\n",
              "    <tr>\n",
              "      <th>18-24</th>\n",
              "      <td>27079</td>\n",
              "    </tr>\n",
              "    <tr>\n",
              "      <th>60+</th>\n",
              "      <td>17940</td>\n",
              "    </tr>\n",
              "  </tbody>\n",
              "</table>\n",
              "</div><br><label><b>dtype:</b> int64</label>"
            ]
          },
          "metadata": {},
          "execution_count": 40
        }
      ]
    },
    {
      "cell_type": "code",
      "source": [
        "#Conta o status de entrega\n",
        "df_compras['status_entrega'].value_counts()\n"
      ],
      "metadata": {
        "id": "xw35HB5CHxfF",
        "colab": {
          "base_uri": "https://localhost:8080/",
          "height": 210
        },
        "outputId": "bae75288-d826-411b-bc01-0e5670b81796"
      },
      "execution_count": 41,
      "outputs": [
        {
          "output_type": "execute_result",
          "data": {
            "text/plain": [
              "status_entrega\n",
              "Entregue     115141\n",
              "Atrasado      18886\n",
              "Cancelado      5233\n",
              "Name: count, dtype: int64"
            ],
            "text/html": [
              "<div>\n",
              "<style scoped>\n",
              "    .dataframe tbody tr th:only-of-type {\n",
              "        vertical-align: middle;\n",
              "    }\n",
              "\n",
              "    .dataframe tbody tr th {\n",
              "        vertical-align: top;\n",
              "    }\n",
              "\n",
              "    .dataframe thead th {\n",
              "        text-align: right;\n",
              "    }\n",
              "</style>\n",
              "<table border=\"1\" class=\"dataframe\">\n",
              "  <thead>\n",
              "    <tr style=\"text-align: right;\">\n",
              "      <th></th>\n",
              "      <th>count</th>\n",
              "    </tr>\n",
              "    <tr>\n",
              "      <th>status_entrega</th>\n",
              "      <th></th>\n",
              "    </tr>\n",
              "  </thead>\n",
              "  <tbody>\n",
              "    <tr>\n",
              "      <th>Entregue</th>\n",
              "      <td>115141</td>\n",
              "    </tr>\n",
              "    <tr>\n",
              "      <th>Atrasado</th>\n",
              "      <td>18886</td>\n",
              "    </tr>\n",
              "    <tr>\n",
              "      <th>Cancelado</th>\n",
              "      <td>5233</td>\n",
              "    </tr>\n",
              "  </tbody>\n",
              "</table>\n",
              "</div><br><label><b>dtype:</b> int64</label>"
            ]
          },
          "metadata": {},
          "execution_count": 41
        }
      ]
    },
    {
      "cell_type": "code",
      "source": [
        "#Agrupa a quantidade de reclamação por cliente\n",
        "qtd_reclamacoes = df_reclamacoes.groupby('cliente_id').size().reset_index(name='qtd_reclamacoes')\n"
      ],
      "metadata": {
        "id": "gyJpPrWXC-Cd"
      },
      "execution_count": 42,
      "outputs": []
    },
    {
      "cell_type": "code",
      "source": [
        "#Verifica qual canal de reclamação é o mais utilizado\n",
        "canal_fav = (\n",
        "    df_reclamacoes.groupby(['cliente_id', 'canal_reclamacao'])\n",
        "    .size()\n",
        "    .reset_index(name='qtd')\n",
        "    .sort_values(['cliente_id', 'qtd'], ascending=[True, False])\n",
        "    .drop_duplicates('cliente_id')\n",
        "    .rename(columns={'canal_reclamacao': 'canal_mais_usado_reclamacao'})\n",
        ")\n"
      ],
      "metadata": {
        "id": "MWkEG1v2EEJd"
      },
      "execution_count": 43,
      "outputs": []
    },
    {
      "cell_type": "code",
      "source": [
        "#Quais canais de campanhas de marketing mais convertem\n",
        "# Ensure 'converteu_em_compra' is in a suitable format (boolean) for summation\n",
        "df_campanhas['converteu_em_compra_bool'] = df_campanhas['converteu_em_compra'].str.strip().str.lower().map({\n",
        "    'sim': True,\n",
        "    'não': False\n",
        "})\n",
        "\n",
        "canal_conv = df_campanhas.groupby('canal').agg(\n",
        "    total_envios=('cliente_id', 'count'),\n",
        "    total_conversoes=('converteu_em_compra_bool', 'sum') # Sum the boolean column\n",
        ").reset_index()\n",
        "\n",
        "canal_conv['taxa_conversao'] = (canal_conv['total_conversoes'] / canal_conv['total_envios']) * 100\n",
        "\n",
        "# Visualizar ordenado\n",
        "canal_conv.sort_values(by='taxa_conversao', ascending=False)"
      ],
      "metadata": {
        "id": "15qqj8TwMtVh",
        "colab": {
          "base_uri": "https://localhost:8080/",
          "height": 206
        },
        "outputId": "fa8ed251-e5f4-45b9-e83c-b01a498c287b"
      },
      "execution_count": 44,
      "outputs": [
        {
          "output_type": "execute_result",
          "data": {
            "text/plain": [
              "             canal  total_envios  total_conversoes  taxa_conversao\n",
              "4         WhatsApp         24981              4580       18.333934\n",
              "3              SMS         19769              3583       18.124336\n",
              "2  Notificação App         19648              3523       17.930578\n",
              "0            Email         24670              4418       17.908391\n",
              "1    Instagram Ads          9933              1773       17.849592"
            ],
            "text/html": [
              "\n",
              "  <div id=\"df-a036f64b-6cb8-46e3-9553-73d82ce39119\" class=\"colab-df-container\">\n",
              "    <div>\n",
              "<style scoped>\n",
              "    .dataframe tbody tr th:only-of-type {\n",
              "        vertical-align: middle;\n",
              "    }\n",
              "\n",
              "    .dataframe tbody tr th {\n",
              "        vertical-align: top;\n",
              "    }\n",
              "\n",
              "    .dataframe thead th {\n",
              "        text-align: right;\n",
              "    }\n",
              "</style>\n",
              "<table border=\"1\" class=\"dataframe\">\n",
              "  <thead>\n",
              "    <tr style=\"text-align: right;\">\n",
              "      <th></th>\n",
              "      <th>canal</th>\n",
              "      <th>total_envios</th>\n",
              "      <th>total_conversoes</th>\n",
              "      <th>taxa_conversao</th>\n",
              "    </tr>\n",
              "  </thead>\n",
              "  <tbody>\n",
              "    <tr>\n",
              "      <th>4</th>\n",
              "      <td>WhatsApp</td>\n",
              "      <td>24981</td>\n",
              "      <td>4580</td>\n",
              "      <td>18.333934</td>\n",
              "    </tr>\n",
              "    <tr>\n",
              "      <th>3</th>\n",
              "      <td>SMS</td>\n",
              "      <td>19769</td>\n",
              "      <td>3583</td>\n",
              "      <td>18.124336</td>\n",
              "    </tr>\n",
              "    <tr>\n",
              "      <th>2</th>\n",
              "      <td>Notificação App</td>\n",
              "      <td>19648</td>\n",
              "      <td>3523</td>\n",
              "      <td>17.930578</td>\n",
              "    </tr>\n",
              "    <tr>\n",
              "      <th>0</th>\n",
              "      <td>Email</td>\n",
              "      <td>24670</td>\n",
              "      <td>4418</td>\n",
              "      <td>17.908391</td>\n",
              "    </tr>\n",
              "    <tr>\n",
              "      <th>1</th>\n",
              "      <td>Instagram Ads</td>\n",
              "      <td>9933</td>\n",
              "      <td>1773</td>\n",
              "      <td>17.849592</td>\n",
              "    </tr>\n",
              "  </tbody>\n",
              "</table>\n",
              "</div>\n",
              "    <div class=\"colab-df-buttons\">\n",
              "\n",
              "  <div class=\"colab-df-container\">\n",
              "    <button class=\"colab-df-convert\" onclick=\"convertToInteractive('df-a036f64b-6cb8-46e3-9553-73d82ce39119')\"\n",
              "            title=\"Convert this dataframe to an interactive table.\"\n",
              "            style=\"display:none;\">\n",
              "\n",
              "  <svg xmlns=\"http://www.w3.org/2000/svg\" height=\"24px\" viewBox=\"0 -960 960 960\">\n",
              "    <path d=\"M120-120v-720h720v720H120Zm60-500h600v-160H180v160Zm220 220h160v-160H400v160Zm0 220h160v-160H400v160ZM180-400h160v-160H180v160Zm440 0h160v-160H620v160ZM180-180h160v-160H180v160Zm440 0h160v-160H620v160Z\"/>\n",
              "  </svg>\n",
              "    </button>\n",
              "\n",
              "  <style>\n",
              "    .colab-df-container {\n",
              "      display:flex;\n",
              "      gap: 12px;\n",
              "    }\n",
              "\n",
              "    .colab-df-convert {\n",
              "      background-color: #E8F0FE;\n",
              "      border: none;\n",
              "      border-radius: 50%;\n",
              "      cursor: pointer;\n",
              "      display: none;\n",
              "      fill: #1967D2;\n",
              "      height: 32px;\n",
              "      padding: 0 0 0 0;\n",
              "      width: 32px;\n",
              "    }\n",
              "\n",
              "    .colab-df-convert:hover {\n",
              "      background-color: #E2EBFA;\n",
              "      box-shadow: 0px 1px 2px rgba(60, 64, 67, 0.3), 0px 1px 3px 1px rgba(60, 64, 67, 0.15);\n",
              "      fill: #174EA6;\n",
              "    }\n",
              "\n",
              "    .colab-df-buttons div {\n",
              "      margin-bottom: 4px;\n",
              "    }\n",
              "\n",
              "    [theme=dark] .colab-df-convert {\n",
              "      background-color: #3B4455;\n",
              "      fill: #D2E3FC;\n",
              "    }\n",
              "\n",
              "    [theme=dark] .colab-df-convert:hover {\n",
              "      background-color: #434B5C;\n",
              "      box-shadow: 0px 1px 3px 1px rgba(0, 0, 0, 0.15);\n",
              "      filter: drop-shadow(0px 1px 2px rgba(0, 0, 0, 0.3));\n",
              "      fill: #FFFFFF;\n",
              "    }\n",
              "  </style>\n",
              "\n",
              "    <script>\n",
              "      const buttonEl =\n",
              "        document.querySelector('#df-a036f64b-6cb8-46e3-9553-73d82ce39119 button.colab-df-convert');\n",
              "      buttonEl.style.display =\n",
              "        google.colab.kernel.accessAllowed ? 'block' : 'none';\n",
              "\n",
              "      async function convertToInteractive(key) {\n",
              "        const element = document.querySelector('#df-a036f64b-6cb8-46e3-9553-73d82ce39119');\n",
              "        const dataTable =\n",
              "          await google.colab.kernel.invokeFunction('convertToInteractive',\n",
              "                                                    [key], {});\n",
              "        if (!dataTable) return;\n",
              "\n",
              "        const docLinkHtml = 'Like what you see? Visit the ' +\n",
              "          '<a target=\"_blank\" href=https://colab.research.google.com/notebooks/data_table.ipynb>data table notebook</a>'\n",
              "          + ' to learn more about interactive tables.';\n",
              "        element.innerHTML = '';\n",
              "        dataTable['output_type'] = 'display_data';\n",
              "        await google.colab.output.renderOutput(dataTable, element);\n",
              "        const docLink = document.createElement('div');\n",
              "        docLink.innerHTML = docLinkHtml;\n",
              "        element.appendChild(docLink);\n",
              "      }\n",
              "    </script>\n",
              "  </div>\n",
              "\n",
              "\n",
              "    <div id=\"df-7b836cc5-8d51-426e-9eb3-f49ce1f41ccd\">\n",
              "      <button class=\"colab-df-quickchart\" onclick=\"quickchart('df-7b836cc5-8d51-426e-9eb3-f49ce1f41ccd')\"\n",
              "                title=\"Suggest charts\"\n",
              "                style=\"display:none;\">\n",
              "\n",
              "<svg xmlns=\"http://www.w3.org/2000/svg\" height=\"24px\"viewBox=\"0 0 24 24\"\n",
              "     width=\"24px\">\n",
              "    <g>\n",
              "        <path d=\"M19 3H5c-1.1 0-2 .9-2 2v14c0 1.1.9 2 2 2h14c1.1 0 2-.9 2-2V5c0-1.1-.9-2-2-2zM9 17H7v-7h2v7zm4 0h-2V7h2v10zm4 0h-2v-4h2v4z\"/>\n",
              "    </g>\n",
              "</svg>\n",
              "      </button>\n",
              "\n",
              "<style>\n",
              "  .colab-df-quickchart {\n",
              "      --bg-color: #E8F0FE;\n",
              "      --fill-color: #1967D2;\n",
              "      --hover-bg-color: #E2EBFA;\n",
              "      --hover-fill-color: #174EA6;\n",
              "      --disabled-fill-color: #AAA;\n",
              "      --disabled-bg-color: #DDD;\n",
              "  }\n",
              "\n",
              "  [theme=dark] .colab-df-quickchart {\n",
              "      --bg-color: #3B4455;\n",
              "      --fill-color: #D2E3FC;\n",
              "      --hover-bg-color: #434B5C;\n",
              "      --hover-fill-color: #FFFFFF;\n",
              "      --disabled-bg-color: #3B4455;\n",
              "      --disabled-fill-color: #666;\n",
              "  }\n",
              "\n",
              "  .colab-df-quickchart {\n",
              "    background-color: var(--bg-color);\n",
              "    border: none;\n",
              "    border-radius: 50%;\n",
              "    cursor: pointer;\n",
              "    display: none;\n",
              "    fill: var(--fill-color);\n",
              "    height: 32px;\n",
              "    padding: 0;\n",
              "    width: 32px;\n",
              "  }\n",
              "\n",
              "  .colab-df-quickchart:hover {\n",
              "    background-color: var(--hover-bg-color);\n",
              "    box-shadow: 0 1px 2px rgba(60, 64, 67, 0.3), 0 1px 3px 1px rgba(60, 64, 67, 0.15);\n",
              "    fill: var(--button-hover-fill-color);\n",
              "  }\n",
              "\n",
              "  .colab-df-quickchart-complete:disabled,\n",
              "  .colab-df-quickchart-complete:disabled:hover {\n",
              "    background-color: var(--disabled-bg-color);\n",
              "    fill: var(--disabled-fill-color);\n",
              "    box-shadow: none;\n",
              "  }\n",
              "\n",
              "  .colab-df-spinner {\n",
              "    border: 2px solid var(--fill-color);\n",
              "    border-color: transparent;\n",
              "    border-bottom-color: var(--fill-color);\n",
              "    animation:\n",
              "      spin 1s steps(1) infinite;\n",
              "  }\n",
              "\n",
              "  @keyframes spin {\n",
              "    0% {\n",
              "      border-color: transparent;\n",
              "      border-bottom-color: var(--fill-color);\n",
              "      border-left-color: var(--fill-color);\n",
              "    }\n",
              "    20% {\n",
              "      border-color: transparent;\n",
              "      border-left-color: var(--fill-color);\n",
              "      border-top-color: var(--fill-color);\n",
              "    }\n",
              "    30% {\n",
              "      border-color: transparent;\n",
              "      border-left-color: var(--fill-color);\n",
              "      border-top-color: var(--fill-color);\n",
              "      border-right-color: var(--fill-color);\n",
              "    }\n",
              "    40% {\n",
              "      border-color: transparent;\n",
              "      border-right-color: var(--fill-color);\n",
              "      border-top-color: var(--fill-color);\n",
              "    }\n",
              "    60% {\n",
              "      border-color: transparent;\n",
              "      border-right-color: var(--fill-color);\n",
              "    }\n",
              "    80% {\n",
              "      border-color: transparent;\n",
              "      border-right-color: var(--fill-color);\n",
              "      border-bottom-color: var(--fill-color);\n",
              "    }\n",
              "    90% {\n",
              "      border-color: transparent;\n",
              "      border-bottom-color: var(--fill-color);\n",
              "    }\n",
              "  }\n",
              "</style>\n",
              "\n",
              "      <script>\n",
              "        async function quickchart(key) {\n",
              "          const quickchartButtonEl =\n",
              "            document.querySelector('#' + key + ' button');\n",
              "          quickchartButtonEl.disabled = true;  // To prevent multiple clicks.\n",
              "          quickchartButtonEl.classList.add('colab-df-spinner');\n",
              "          try {\n",
              "            const charts = await google.colab.kernel.invokeFunction(\n",
              "                'suggestCharts', [key], {});\n",
              "          } catch (error) {\n",
              "            console.error('Error during call to suggestCharts:', error);\n",
              "          }\n",
              "          quickchartButtonEl.classList.remove('colab-df-spinner');\n",
              "          quickchartButtonEl.classList.add('colab-df-quickchart-complete');\n",
              "        }\n",
              "        (() => {\n",
              "          let quickchartButtonEl =\n",
              "            document.querySelector('#df-7b836cc5-8d51-426e-9eb3-f49ce1f41ccd button');\n",
              "          quickchartButtonEl.style.display =\n",
              "            google.colab.kernel.accessAllowed ? 'block' : 'none';\n",
              "        })();\n",
              "      </script>\n",
              "    </div>\n",
              "\n",
              "    </div>\n",
              "  </div>\n"
            ],
            "application/vnd.google.colaboratory.intrinsic+json": {
              "type": "dataframe",
              "summary": "{\n  \"name\": \"canal_conv\",\n  \"rows\": 5,\n  \"fields\": [\n    {\n      \"column\": \"canal\",\n      \"properties\": {\n        \"dtype\": \"string\",\n        \"num_unique_values\": 5,\n        \"samples\": [\n          \"SMS\",\n          \"Instagram Ads\",\n          \"Notifica\\u00e7\\u00e3o App\"\n        ],\n        \"semantic_type\": \"\",\n        \"description\": \"\"\n      }\n    },\n    {\n      \"column\": \"total_envios\",\n      \"properties\": {\n        \"dtype\": \"number\",\n        \"std\": 6081,\n        \"min\": 9933,\n        \"max\": 24981,\n        \"num_unique_values\": 5,\n        \"samples\": [\n          19769,\n          9933,\n          19648\n        ],\n        \"semantic_type\": \"\",\n        \"description\": \"\"\n      }\n    },\n    {\n      \"column\": \"total_conversoes\",\n      \"properties\": {\n        \"dtype\": \"number\",\n        \"std\": 1114,\n        \"min\": 1773,\n        \"max\": 4580,\n        \"num_unique_values\": 5,\n        \"samples\": [\n          3583,\n          1773,\n          3523\n        ],\n        \"semantic_type\": \"\",\n        \"description\": \"\"\n      }\n    },\n    {\n      \"column\": \"taxa_conversao\",\n      \"properties\": {\n        \"dtype\": \"number\",\n        \"std\": 0.19905620622713255,\n        \"min\": 17.849592268196922,\n        \"max\": 18.333933789680156,\n        \"num_unique_values\": 5,\n        \"samples\": [\n          18.124336081744143,\n          17.849592268196922,\n          17.930578175895764\n        ],\n        \"semantic_type\": \"\",\n        \"description\": \"\"\n      }\n    }\n  ]\n}"
            }
          },
          "metadata": {},
          "execution_count": 44
        }
      ]
    },
    {
      "cell_type": "code",
      "source": [
        "# Total de compras por cliente\n",
        "compras_agg = df_compras.groupby('cliente_id').agg({\n",
        "    'valor_compra': 'sum',\n",
        "    'data_compra': 'count',\n",
        "    'quantidade_parcelas': 'sum'\n",
        "}).rename(columns={\n",
        "    'valor_compra': 'total_gasto',\n",
        "    'data_compra': 'num_compras',\n",
        "    'quantidade_parcelas': 'total_parcelas'\n",
        "})\n",
        "\n",
        "# Total de conversões por cliente\n",
        "campanhas_agg = df_campanhas.groupby('cliente_id').agg({\n",
        "    'converteu_em_compra_bool': 'sum'\n",
        "}).rename(columns={'converteu_em_compra_bool': 'total_conversoes'})\n",
        "\n",
        "# Merge com df_cadastral\n",
        "df_financeiro = df_cadastral.merge(compras_agg, on='cliente_id', how='left') \\\n",
        "                            .merge(campanhas_agg, on='cliente_id', how='left')\n"
      ],
      "metadata": {
        "id": "HB5s9lDF_LzC"
      },
      "execution_count": 45,
      "outputs": []
    },
    {
      "cell_type": "code",
      "source": [
        "#A partir desse código começa um relacionamento entre clientes inativos e score inicial\n",
        "#Visa descobrir se a porcentagem de clientes inativos (71%) tem a ver com o score dos clientes(Que em sua maioria fica entre 400 e 500 pontos)\n",
        "df_cadastral['status_cadastro'].value_counts()\n"
      ],
      "metadata": {
        "colab": {
          "base_uri": "https://localhost:8080/",
          "height": 210
        },
        "id": "Dfv26LEFNQpx",
        "outputId": "4266350e-65a9-4561-9399-fe9b3419cd53"
      },
      "execution_count": 46,
      "outputs": [
        {
          "output_type": "execute_result",
          "data": {
            "text/plain": [
              "status_cadastro\n",
              "Inativo      107460\n",
              "Bloqueado     39042\n",
              "Ativo          3498\n",
              "Name: count, dtype: int64"
            ],
            "text/html": [
              "<div>\n",
              "<style scoped>\n",
              "    .dataframe tbody tr th:only-of-type {\n",
              "        vertical-align: middle;\n",
              "    }\n",
              "\n",
              "    .dataframe tbody tr th {\n",
              "        vertical-align: top;\n",
              "    }\n",
              "\n",
              "    .dataframe thead th {\n",
              "        text-align: right;\n",
              "    }\n",
              "</style>\n",
              "<table border=\"1\" class=\"dataframe\">\n",
              "  <thead>\n",
              "    <tr style=\"text-align: right;\">\n",
              "      <th></th>\n",
              "      <th>count</th>\n",
              "    </tr>\n",
              "    <tr>\n",
              "      <th>status_cadastro</th>\n",
              "      <th></th>\n",
              "    </tr>\n",
              "  </thead>\n",
              "  <tbody>\n",
              "    <tr>\n",
              "      <th>Inativo</th>\n",
              "      <td>107460</td>\n",
              "    </tr>\n",
              "    <tr>\n",
              "      <th>Bloqueado</th>\n",
              "      <td>39042</td>\n",
              "    </tr>\n",
              "    <tr>\n",
              "      <th>Ativo</th>\n",
              "      <td>3498</td>\n",
              "    </tr>\n",
              "  </tbody>\n",
              "</table>\n",
              "</div><br><label><b>dtype:</b> int64</label>"
            ]
          },
          "metadata": {},
          "execution_count": 46
        }
      ]
    },
    {
      "cell_type": "code",
      "source": [
        "#Cria dois grupos de clientes \"Ativos e Inativos\"\n",
        "ativos = df_cadastral[df_cadastral['status_cadastro'] == 'Ativo']\n",
        "inativos = df_cadastral[df_cadastral['status_cadastro'] == 'Inativo']\n"
      ],
      "metadata": {
        "id": "NqZ0Os2PNmph"
      },
      "execution_count": 47,
      "outputs": []
    },
    {
      "cell_type": "code",
      "source": [
        "#Média de Score por Grupo\n",
        "df_cadastral.groupby('status_cadastro')['score_inicial'].mean()\n"
      ],
      "metadata": {
        "colab": {
          "base_uri": "https://localhost:8080/",
          "height": 210
        },
        "id": "ObTe1jjrN2bH",
        "outputId": "7e432390-fafa-405e-93d9-848f8966f102"
      },
      "execution_count": 48,
      "outputs": [
        {
          "output_type": "execute_result",
          "data": {
            "text/plain": [
              "status_cadastro\n",
              "Ativo        687.660091\n",
              "Bloqueado    552.016802\n",
              "Inativo      411.346575\n",
              "Name: score_inicial, dtype: float64"
            ],
            "text/html": [
              "<div>\n",
              "<style scoped>\n",
              "    .dataframe tbody tr th:only-of-type {\n",
              "        vertical-align: middle;\n",
              "    }\n",
              "\n",
              "    .dataframe tbody tr th {\n",
              "        vertical-align: top;\n",
              "    }\n",
              "\n",
              "    .dataframe thead th {\n",
              "        text-align: right;\n",
              "    }\n",
              "</style>\n",
              "<table border=\"1\" class=\"dataframe\">\n",
              "  <thead>\n",
              "    <tr style=\"text-align: right;\">\n",
              "      <th></th>\n",
              "      <th>score_inicial</th>\n",
              "    </tr>\n",
              "    <tr>\n",
              "      <th>status_cadastro</th>\n",
              "      <th></th>\n",
              "    </tr>\n",
              "  </thead>\n",
              "  <tbody>\n",
              "    <tr>\n",
              "      <th>Ativo</th>\n",
              "      <td>687.660091</td>\n",
              "    </tr>\n",
              "    <tr>\n",
              "      <th>Bloqueado</th>\n",
              "      <td>552.016802</td>\n",
              "    </tr>\n",
              "    <tr>\n",
              "      <th>Inativo</th>\n",
              "      <td>411.346575</td>\n",
              "    </tr>\n",
              "  </tbody>\n",
              "</table>\n",
              "</div><br><label><b>dtype:</b> float64</label>"
            ]
          },
          "metadata": {},
          "execution_count": 48
        }
      ]
    },
    {
      "cell_type": "markdown",
      "source": [
        "# Visualizações"
      ],
      "metadata": {
        "id": "Bf8rirYFATbH"
      }
    },
    {
      "cell_type": "code",
      "source": [
        "#Visualização da quantidades de clientes cadastrados por faixa etária\n",
        "import matplotlib.pyplot as plt\n",
        "import seaborn as sns\n",
        "\n",
        "# Estilo\n",
        "sns.set(style=\"whitegrid\")\n",
        "\n",
        "# Contagem por faixa etária\n",
        "contagem_faixas = df_cadastral['faixa_etaria'].value_counts().sort_index()\n",
        "\n",
        "# Paleta azul, roxo e lilás (repete se tiver mais faixas)\n",
        "cores_personalizadas = ['#6495ED', '#6A0DAD', '#C8A2C8'] * 3\n",
        "\n",
        "# Cria a figura com fundo cinza claro\n",
        "plt.figure(figsize=(10, 6), facecolor='#f2f2f2')\n",
        "\n",
        "# Gráfico\n",
        "ax = sns.barplot(\n",
        "    x=contagem_faixas.index,\n",
        "    y=contagem_faixas.values,\n",
        "    palette=cores_personalizadas[:len(contagem_faixas)]\n",
        ")\n",
        "\n",
        "# Fundo do gráfico\n",
        "ax.set_facecolor('#f9f9f9')\n",
        "\n",
        "# Títulos\n",
        "plt.title('Distribuição de Clientes por Faixa Etária', fontsize=16, weight='bold')\n",
        "plt.xlabel('Faixa Etária', fontsize=12)\n",
        "plt.ylabel('Número de Clientes', fontsize=12)\n",
        "plt.xticks(rotation=45)\n",
        "\n",
        "# Remove bordas extras\n",
        "sns.despine()\n",
        "plt.tight_layout()\n",
        "\n",
        "plt.show()\n",
        "\n"
      ],
      "metadata": {
        "id": "CidZi7TmAWEC",
        "colab": {
          "base_uri": "https://localhost:8080/",
          "height": 688
        },
        "outputId": "3b92d8a2-34a0-46df-beb3-981ca75898e4"
      },
      "execution_count": 49,
      "outputs": [
        {
          "output_type": "stream",
          "name": "stderr",
          "text": [
            "/tmp/ipython-input-49-4256391692.py:18: FutureWarning: \n",
            "\n",
            "Passing `palette` without assigning `hue` is deprecated and will be removed in v0.14.0. Assign the `x` variable to `hue` and set `legend=False` for the same effect.\n",
            "\n",
            "  ax = sns.barplot(\n"
          ]
        },
        {
          "output_type": "display_data",
          "data": {
            "text/plain": [
              "<Figure size 1000x600 with 1 Axes>"
            ],
            "image/png": "[encoded data removed]"
          },
          "metadata": {}
        }
      ]
    },
    {
      "cell_type": "code",
      "source": [
        "#Distribuição de Status de Entrega\n",
        "\n",
        "# Contagem dos status de entrega\n",
        "status_counts = df_compras['status_entrega'].value_counts()\n",
        "\n",
        "# Cores personalizadas: azul, roxo e lilás\n",
        "cores = ['#6495ED', '#6A0DAD', '#C8A2C8']\n",
        "\n",
        "# Criar figura com fundo cinza claro\n",
        "plt.figure(figsize=(7,7), facecolor='#f2f2f2')\n",
        "\n",
        "# Plotar gráfico de pizza\n",
        "plt.pie(\n",
        "    status_counts,\n",
        "    labels=status_counts.index,\n",
        "    autopct='%1.1f%%',\n",
        "    colors=cores,\n",
        "    startangle=140,\n",
        "    textprops={'color':\"black\", 'fontsize':12}\n",
        ")\n",
        "\n",
        "plt.title('Distribuição do Status de Entrega', fontsize=16, weight='bold')\n",
        "\n",
        "# Mostrar gráfico\n",
        "plt.show()\n"
      ],
      "metadata": {
        "id": "JjarXnGFILLY",
        "colab": {
          "base_uri": "https://localhost:8080/",
          "height": 600
        },
        "outputId": "095f99c1-0fc2-45da-dd2c-398360059591"
      },
      "execution_count": 50,
      "outputs": [
        {
          "output_type": "display_data",
          "data": {
            "text/plain": [
              "<Figure size 700x700 with 1 Axes>"
            ],
            "image/png": "[encoded data removed]"
          },
          "metadata": {}
        }
      ]
    },
    {
      "cell_type": "code",
      "source": [
        "import matplotlib.pyplot as plt\n",
        "import seaborn as sns\n",
        "import matplotlib.font_manager as fm\n",
        "import numpy as np\n",
        "\n",
        "# Taxa de conversão por canal\n",
        "canal_conv = df_campanhas.groupby('canal').agg(\n",
        "    total_envios=('cliente_id', 'count'),\n",
        "    total_conversoes=('converteu_em_compra_bool', 'sum')\n",
        ").reset_index()\n",
        "\n",
        "canal_conv['taxa_conversao'] = (canal_conv['total_conversoes'] / canal_conv['total_envios']) * 100\n",
        "\n",
        "# Ordena pelo maior valor de taxa de conversão\n",
        "canal_conv = canal_conv.sort_values('taxa_conversao', ascending=False).reset_index(drop=True)\n",
        "\n",
        "# Geração de cores em degradê (roxo escuro para lilás claro)\n",
        "from matplotlib.colors import LinearSegmentedColormap\n",
        "\n",
        "# Cria um gradiente de cores do roxo escuro ao lilás\n",
        "cmap = LinearSegmentedColormap.from_list(\"roxo_lilas\", [\"#483D8B\", \"#D8BFD8\"])\n",
        "norm = plt.Normalize(canal_conv['taxa_conversao'].min(), canal_conv['taxa_conversao'].max())\n",
        "colors = [cmap(norm(val)) for val in canal_conv['taxa_conversao']]\n",
        "\n",
        "# Plot\n",
        "plt.figure(figsize=(8, 5))\n",
        "barplot = sns.barplot(\n",
        "    data=canal_conv,\n",
        "    x='taxa_conversao',\n",
        "    y='canal',\n",
        "    palette=colors\n",
        ")\n",
        "\n",
        "# Adiciona o percentual ao lado das barras\n",
        "for i, valor in enumerate(canal_conv['taxa_conversao']):\n",
        "    plt.text(valor + 0.5, i, f'{valor:.1f}%', va='center', fontsize=10, color='black')\n",
        "\n",
        "# Fonte personalizada (DIN) se disponível\n",
        "# Substitua o caminho abaixo pelo caminho local da sua fonte, se necessário\n",
        "# fm.fontManager.addfont('/caminho/para/sua/fonte/DIN-Regular.ttf')\n",
        "# plt.rcParams['font.family'] = 'DIN'\n",
        "\n",
        "# Estilo do título\n",
        "plt.title('📡 Taxa de Conversão por Canal de Campanha',\n",
        "          fontsize=14, color='#4F4F4F', fontweight='bold', fontname='DIN')\n",
        "\n",
        "plt.xlabel('Taxa de Conversão (%)')\n",
        "plt.ylabel('Canal')\n",
        "plt.grid(axis='x', linestyle='--', alpha=0.4)\n",
        "plt.gca().set_facecolor('#f0f0f0')\n",
        "plt.tight_layout()\n",
        "plt.show()\n"
      ],
      "metadata": {
        "id": "SWZ9lNgeNg0H",
        "colab": {
          "base_uri": "https://localhost:8080/",
          "height": 744
        },
        "outputId": "5475d0bc-93d7-4826-e840-f79cae6d46ed"
      },
      "execution_count": 51,
      "outputs": [
        {
          "output_type": "stream",
          "name": "stderr",
          "text": [
            "/tmp/ipython-input-51-2745249624.py:27: FutureWarning: \n",
            "\n",
            "Passing `palette` without assigning `hue` is deprecated and will be removed in v0.14.0. Assign the `y` variable to `hue` and set `legend=False` for the same effect.\n",
            "\n",
            "  barplot = sns.barplot(\n",
            "WARNING:matplotlib.font_manager:findfont: Font family 'DIN' not found.\n",
            "WARNING:matplotlib.font_manager:findfont: Font family 'DIN' not found.\n",
            "/tmp/ipython-input-51-2745249624.py:51: UserWarning: Glyph 128225 (\\N{SATELLITE ANTENNA}) missing from font(s) DejaVu Sans.\n",
            "  plt.tight_layout()\n",
            "WARNING:matplotlib.font_manager:findfont: Font family 'DIN' not found.\n",
            "WARNING:matplotlib.font_manager:findfont: Font family 'DIN' not found.\n",
            "/usr/local/lib/python3.11/dist-packages/IPython/core/pylabtools.py:151: UserWarning: Glyph 128225 (\\N{SATELLITE ANTENNA}) missing from font(s) DejaVu Sans.\n",
            "  fig.canvas.print_figure(bytes_io, **kw)\n",
            "WARNING:matplotlib.font_manager:findfont: Font family 'DIN' not found.\n"
          ]
        },
        {
          "output_type": "display_data",
          "data": {
            "text/plain": [
              "<Figure size 800x500 with 1 Axes>"
            ],
            "image/png": "[encoded data removed]"
          },
          "metadata": {}
        }
      ]
    },
    {
      "cell_type": "code",
      "source": [
        "import pandas as pd\n",
        "import matplotlib.pyplot as plt\n",
        "from matplotlib.colors import LinearSegmentedColormap\n",
        "import matplotlib.font_manager as fm\n",
        "import numpy as np\n",
        "\n",
        "# Normalização dos dados\n",
        "df_campanhas['abriu'] = df_campanhas['abriu'].str.strip().str.lower()\n",
        "df_campanhas['clicou'] = df_campanhas['clicou'].str.strip().str.lower()\n",
        "df_campanhas['converteu_em_compra'] = df_campanhas['converteu_em_compra'].str.strip().str.lower()\n",
        "\n",
        "# Cálculo das taxas\n",
        "abriu_sim = df_campanhas['abriu'].value_counts(normalize=True).get('sim', 0) * 100\n",
        "clicou_sim = df_campanhas['clicou'].value_counts(normalize=True).get('sim', 0) * 100\n",
        "converteu_sim = df_campanhas['converteu_em_compra'].value_counts(normalize=True).get('sim', 0) * 100\n",
        "\n",
        "# Estrutura do funil\n",
        "funnel_data = {\n",
        "    'Etapa': ['Campanhas Enviadas', 'Campanhas Abertas', 'Cliques', 'Conversões'],\n",
        "    'Taxa (%)': [100, abriu_sim, clicou_sim, converteu_sim]\n",
        "}\n",
        "funnel_df = pd.DataFrame(funnel_data)\n",
        "\n",
        "# Degradê de cores: roxo (valor alto) para lilás (valor baixo)\n",
        "cmap = LinearSegmentedColormap.from_list(\"degrade_roxo_lilas\", ['#6A0DAD', '#E6ADD8'])\n",
        "norm = plt.Normalize(funnel_df['Taxa (%)'].min(), funnel_df['Taxa (%)'].max())\n",
        "colors = [cmap(norm(val)) for val in funnel_df['Taxa (%)']]\n",
        "\n",
        "# Plot\n",
        "fig, ax = plt.subplots(figsize=(8, 6))\n",
        "bars = ax.barh(funnel_df['Etapa'], funnel_df['Taxa (%)'], color=colors)\n",
        "\n",
        "# Rótulos nas barras\n",
        "for bar in bars:\n",
        "    width = bar.get_width()\n",
        "    ax.text(width - 3, bar.get_y() + bar.get_height()/2,\n",
        "            f'{width:.1f}%', ha='right', va='center',\n",
        "            fontsize=10, color='white')\n",
        "\n",
        "# Fonte personalizada (DIN)\n",
        "# Se a fonte DIN não estiver instalada, substitua pelo caminho do arquivo .ttf:\n",
        "# fm.fontManager.addfont('/caminho/para/DIN.ttf')\n",
        "# plt.rcParams['font.family'] = 'DIN'\n",
        "plt.title('🔻 Funil de Engajamento e Conversão',\n",
        "          fontsize=14, color='#4F4F4F', fontweight='bold', fontname='DIN')\n",
        "\n",
        "# Estilo do gráfico\n",
        "ax.set_xlim(0, 110)\n",
        "ax.set_xlabel('Percentual (%)')\n",
        "ax.set_facecolor('#f0f0f0')\n",
        "plt.grid(axis='x', linestyle='--', alpha=0.5)\n",
        "plt.tight_layout()\n",
        "plt.show()\n"
      ],
      "metadata": {
        "colab": {
          "base_uri": "https://localhost:8080/",
          "height": 756
        },
        "id": "vltjzuxRik3K",
        "outputId": "55b7d921-280a-4950-986f-36c2470ce5de"
      },
      "execution_count": 52,
      "outputs": [
        {
          "output_type": "stream",
          "name": "stderr",
          "text": [
            "WARNING:matplotlib.font_manager:findfont: Font family 'DIN' not found.\n",
            "WARNING:matplotlib.font_manager:findfont: Font family 'DIN' not found.\n",
            "/tmp/ipython-input-52-3482765861.py:52: UserWarning: Glyph 128315 (\\N{DOWN-POINTING RED TRIANGLE}) missing from font(s) DejaVu Sans.\n",
            "  plt.tight_layout()\n",
            "WARNING:matplotlib.font_manager:findfont: Font family 'DIN' not found.\n",
            "WARNING:matplotlib.font_manager:findfont: Font family 'DIN' not found.\n",
            "/usr/local/lib/python3.11/dist-packages/IPython/core/pylabtools.py:151: UserWarning: Glyph 128315 (\\N{DOWN-POINTING RED TRIANGLE}) missing from font(s) DejaVu Sans.\n",
            "  fig.canvas.print_figure(bytes_io, **kw)\n",
            "WARNING:matplotlib.font_manager:findfont: Font family 'DIN' not found.\n"
          ]
        },
        {
          "output_type": "display_data",
          "data": {
            "text/plain": [
              "<Figure size 800x600 with 1 Axes>"
            ],
            "image/png": "[encoded data removed]"
          },
          "metadata": {}
        }
      ]
    },
    {
      "cell_type": "code",
      "source": [
        "import matplotlib.pyplot as plt\n",
        "import seaborn as sns\n",
        "import matplotlib.colors as mcolors\n",
        "import numpy as np\n",
        "\n",
        "# Ordenar os dados por taxa de conversão (do maior pro menor)\n",
        "canal_conv = canal_conv.sort_values(by='taxa_conversao', ascending=False).reset_index(drop=True)\n",
        "\n",
        "# Criar gradiente de roxo escuro até lilás com base na quantidade de canais\n",
        "cmap = mcolors.LinearSegmentedColormap.from_list(\"roxo_lilas\", [\"#4B0082\", \"#D8BFD8\"])  # Roxo escuro -> Lilás\n",
        "cores_gradiente = [cmap(i / (len(canal_conv) - 1)) for i in range(len(canal_conv))]\n",
        "\n",
        "# Estilo\n",
        "sns.set(style=\"whitegrid\")\n",
        "plt.figure(figsize=(10, 6))\n",
        "plt.gca().set_facecolor('#f7f7f7')  # Fundo cinza bem clarinho\n",
        "\n",
        "# Criar o gráfico de barras\n",
        "barras = sns.barplot(\n",
        "    data=canal_conv,\n",
        "    x='taxa_conversao',\n",
        "    y='canal',\n",
        "    palette=cores_gradiente\n",
        ")\n",
        "\n",
        "# Adicionar rótulos de valor nas barras\n",
        "for container in barras.containers:\n",
        "    barras.bar_label(container, fmt=\"%.1f%%\", label_type='edge', padding=5)\n",
        "\n",
        "# Títulos e labels\n",
        "plt.title('Taxa de Conversão por Canal de Campanha', fontsize=14, weight='bold')\n",
        "plt.xlabel('Taxa de Conversão (%)')\n",
        "plt.ylabel('Canal')\n",
        "\n",
        "plt.tight_layout()\n",
        "plt.show()\n"
      ],
      "metadata": {
        "colab": {
          "base_uri": "https://localhost:8080/",
          "height": 687
        },
        "id": "coxg827IjWvB",
        "outputId": "51f90ca8-9d43-4fb0-d06b-ce7f07fbe8fa"
      },
      "execution_count": 53,
      "outputs": [
        {
          "output_type": "stream",
          "name": "stderr",
          "text": [
            "/tmp/ipython-input-53-399659077.py:19: FutureWarning: \n",
            "\n",
            "Passing `palette` without assigning `hue` is deprecated and will be removed in v0.14.0. Assign the `y` variable to `hue` and set `legend=False` for the same effect.\n",
            "\n",
            "  barras = sns.barplot(\n"
          ]
        },
        {
          "output_type": "display_data",
          "data": {
            "text/plain": [
              "<Figure size 1000x600 with 1 Axes>"
            ],
            "image/png": "[encoded data removed]"
          },
          "metadata": {}
        }
      ]
    },
    {
      "cell_type": "code",
      "source": [
        "import seaborn as sns\n",
        "import matplotlib.pyplot as plt\n",
        "\n",
        "plt.figure(figsize=(10, 6))\n",
        "sns.histplot(\n",
        "    data=df_cadastral,\n",
        "    x='score_inicial',\n",
        "    bins=30,\n",
        "    kde=True,\n",
        "    color='mediumpurple'\n",
        ")\n",
        "plt.title('Distribuição do Score Inicial')\n",
        "plt.xlabel('Score Inicial')\n",
        "plt.ylabel('Quantidade de Clientes')\n",
        "plt.grid(True, linestyle='--', alpha=0.5)\n",
        "plt.show()\n"
      ],
      "metadata": {
        "colab": {
          "base_uri": "https://localhost:8080/",
          "height": 573
        },
        "id": "zQSbmQV80xSU",
        "outputId": "01321418-3ba3-4860-93d4-ff096f49606b"
      },
      "execution_count": 54,
      "outputs": [
        {
          "output_type": "display_data",
          "data": {
            "text/plain": [
              "<Figure size 1000x600 with 1 Axes>"
            ],
            "image/png": "[encoded data removed]"
          },
          "metadata": {}
        }
      ]
    },
    {
      "cell_type": "code",
      "source": [
        "#Boxplot para visualizara distribuição do score incial por status do cliente\n",
        "# Define estilo personalizado\n",
        "plt.style.use('default')\n",
        "fig, ax = plt.subplots(figsize=(8, 5))\n",
        "fig.patch.set_facecolor('#f0f0f0')   # Fundo cinza claro do gráfico\n",
        "\n",
        "# Boxplot\n",
        "sns.boxplot(\n",
        "    data=df_cadastral,\n",
        "    x='status_cadastro',\n",
        "    y='score_inicial',\n",
        "    palette='Purples',\n",
        "    ax=ax\n",
        ")\n",
        "\n",
        "# Título com fonte personalizada (DIN)\n",
        "plt.title(\n",
        "    'Distribuição do Score Inicial por Status do Cliente',\n",
        "    fontsize=14,\n",
        "    color='#555555',\n",
        "    fontname='DIN Alternate',  # Ou 'DIN Condensed' dependendo do que estiver instalado\n",
        "    weight='bold'\n",
        ")\n",
        "\n",
        "# Eixos\n",
        "plt.xlabel('Status do Cliente')\n",
        "plt.ylabel('Score Inicial')\n",
        "plt.grid(axis='y', linestyle='--', alpha=0.3)\n",
        "\n",
        "plt.tight_layout()\n",
        "plt.show()\n"
      ],
      "metadata": {
        "colab": {
          "base_uri": "https://localhost:8080/",
          "height": 681
        },
        "id": "B8WgLP7UUzFZ",
        "outputId": "2b859dbf-1554-4d80-d8a6-c73c61d0e3fa"
      },
      "execution_count": 55,
      "outputs": [
        {
          "output_type": "stream",
          "name": "stderr",
          "text": [
            "/tmp/ipython-input-55-1160055127.py:8: FutureWarning: \n",
            "\n",
            "Passing `palette` without assigning `hue` is deprecated and will be removed in v0.14.0. Assign the `x` variable to `hue` and set `legend=False` for the same effect.\n",
            "\n",
            "  sns.boxplot(\n",
            "WARNING:matplotlib.font_manager:findfont: Font family 'DIN Alternate' not found.\n",
            "WARNING:matplotlib.font_manager:findfont: Font family 'DIN Alternate' not found.\n",
            "WARNING:matplotlib.font_manager:findfont: Font family 'DIN Alternate' not found.\n",
            "WARNING:matplotlib.font_manager:findfont: Font family 'DIN Alternate' not found.\n",
            "WARNING:matplotlib.font_manager:findfont: Font family 'DIN Alternate' not found.\n"
          ]
        },
        {
          "output_type": "display_data",
          "data": {
            "text/plain": [
              "<Figure size 800x500 with 1 Axes>"
            ],
            "image/png": "[encoded data removed]"
          },
          "metadata": {}
        }
      ]
    },
    {
      "cell_type": "markdown",
      "source": [
        "##Unindo o DF"
      ],
      "metadata": {
        "id": "jyYRokiSbyRf"
      }
    },
    {
      "cell_type": "code",
      "source": [
        "import pandas as pd  # Importa a biblioteca pandas\n",
        "\n",
        "# 1️⃣ Começa com o DataFrame principal: df_cadastral\n",
        "df_unificado = df_cadastral.copy()\n",
        "# → Cria uma cópia do DataFrame cadastral, que tem todos os clientes.\n",
        "\n",
        "# 2️⃣ Junta com os dados de compras\n",
        "df_unificado = pd.merge(df_unificado, df_compras, on='cliente_id', how='left')\n",
        "# → Adiciona colunas de df_compras. Quem não tem compras ficará com campos vazios (NaN).\n",
        "\n",
        "# 3️⃣ Junta com os dados de reclamações\n",
        "df_unificado = pd.merge(df_unificado, df_reclamacoes, on='cliente_id', how='left')\n",
        "# → Adiciona colunas de df_reclamacoes. Mesma lógica: mantém todos os clientes do df_cadastral.\n",
        "\n",
        "# 4️⃣ Junta com os dados de campanhas\n",
        "df_unificado = pd.merge(df_unificado, df_campanhas, on='cliente_id', how='left')\n",
        "# → Adiciona colunas de df_campanhas. Sem preencher valores faltantes.\n",
        "\n",
        "# 5️⃣ Exporta o DataFrame final para um arquivo CSV\n",
        "df_unificado.to_csv('df_unificado_para_powerbi.csv', index=False)\n",
        "# → Exporta para CSV, pronto para importar no Power BI. Index=False evita criar uma coluna de índice desnecessária.\n"
      ],
      "metadata": {
        "id": "q919EK38bz89"
      },
      "execution_count": 56,
      "outputs": []
    },
    {
      "cell_type": "code",
      "source": [
        "from google.colab import files\n",
        "files.download('df_unificado_para_powerbi.csv')\n"
      ],
      "metadata": {
        "id": "7wq97DtVdBZb",
        "colab": {
          "base_uri": "https://localhost:8080/",
          "height": 17
        },
        "outputId": "9c71656e-1d0c-4573-cb9d-7d3f44598527"
      },
      "execution_count": 57,
      "outputs": [
        {
          "output_type": "display_data",
          "data": {
            "text/plain": [
              "<IPython.core.display.Javascript object>"
            ],
            "application/javascript": [
              "\n",
              "    async function download(id, filename, size) {\n",
              "      if (!google.colab.kernel.accessAllowed) {\n",
              "        return;\n",
              "      }\n",
              "      const div = document.createElement('div');\n",
              "      const label = document.createElement('label');\n",
              "      label.textContent = `Downloading \"${filename}\": `;\n",
              "      div.appendChild(label);\n",
              "      const progress = document.createElement('progress');\n",
              "      progress.max = size;\n",
              "      div.appendChild(progress);\n",
              "      document.body.appendChild(div);\n",
              "\n",
              "      const buffers = [];\n",
              "      let downloaded = 0;\n",
              "\n",
              "      const channel = await google.colab.kernel.comms.open(id);\n",
              "      // Send a message to notify the kernel that we're ready.\n",
              "      channel.send({})\n",
              "\n",
              "      for await (const message of channel.messages) {\n",
              "        // Send a message to notify the kernel that we're ready.\n",
              "        channel.send({})\n",
              "        if (message.buffers) {\n",
              "          for (const buffer of message.buffers) {\n",
              "            buffers.push(buffer);\n",
              "            downloaded += buffer.byteLength;\n",
              "            progress.value = downloaded;\n",
              "          }\n",
              "        }\n",
              "      }\n",
              "      const blob = new Blob(buffers, {type: 'application/binary'});\n",
              "      const a = document.createElement('a');\n",
              "      a.href = window.URL.createObjectURL(blob);\n",
              "      a.download = filename;\n",
              "      div.appendChild(a);\n",
              "      a.click();\n",
              "      div.remove();\n",
              "    }\n",
              "  "
            ]
          },
          "metadata": {}
        },
        {
          "output_type": "display_data",
          "data": {
            "text/plain": [
              "<IPython.core.display.Javascript object>"
            ],
            "application/javascript": [
              "download(\"download_52246ce8-c7f8-4134-a6ea-fe8d5f367843\", \"df_unificado_para_powerbi.csv\", 79182770)"
            ]
          },
          "metadata": {}
        }
      ]
    }
  ]
}